{
 "cells": [
  {
   "cell_type": "markdown",
   "metadata": {},
   "source": [
    "The general process/outline for this project.\n",
    "\n",
    "* Will be using DEC (Deep Embedding for Clustering). This will make use of (tinyVgg model architecture) that also combines auto encoders to cluster the images into the labels.\n",
    "\n",
    "\n",
    "\n",
    "\n",
    "1. Install the necessary libraries (abviously) such as torch, torchvision, matplotlib, numpy"
   ]
  },
  {
   "cell_type": "markdown",
   "metadata": {
    "vscode": {
     "languageId": "plaintext"
    }
   },
   "source": [
    "# Make an autoencoder"
   ]
  },
  {
   "cell_type": "code",
   "execution_count": 1,
   "metadata": {},
   "outputs": [],
   "source": [
    "# Import necessary library\n",
    "import torch\n",
    "from torch import nn\n",
    "import matplotlib.pyplot as plt\n",
    "import torchvision"
   ]
  },
  {
   "cell_type": "code",
   "execution_count": 2,
   "metadata": {},
   "outputs": [
    {
     "data": {
      "text/plain": [
       "'cuda'"
      ]
     },
     "execution_count": 2,
     "metadata": {},
     "output_type": "execute_result"
    }
   ],
   "source": [
    "# Initalize the GPU for the model\n",
    "device = 'cuda' if torch.cuda.is_available() else 'cpu'\n",
    "# device = 'cpu'\n",
    "device"
   ]
  },
  {
   "cell_type": "code",
   "execution_count": 3,
   "metadata": {},
   "outputs": [],
   "source": [
    "# Encoder Model Class\n",
    "\n",
    "class Encoder(nn.Module):\n",
    "    def __init__(self,\n",
    "                 input_shape,\n",
    "                 hidden_units=[256, 128, 64, 32, 16],\n",
    "                 dropout_rate=0.2,\n",
    "                 activation=nn.ReLU()):\n",
    "        super().__init__()\n",
    "\n",
    "        self.input_shape = input_shape\n",
    "\n",
    "        self.input_layer = nn.Linear(input_shape, hidden_units[0])\n",
    "\n",
    "        self.n_layers = 0\n",
    "        for i in range(len(hidden_units)-1):\n",
    "            setattr(self, f'hidden_{i}', nn.Linear(hidden_units[i], hidden_units[i+1]))\n",
    "            self.n_layers += 1\n",
    "        \n",
    "        \n",
    "        self.activation = activation\n",
    "        self.dropout_rate = dropout_rate\n",
    "        self.hidden_units = hidden_units\n",
    "\n",
    "        self.dropout = nn.Dropout(self.dropout_rate) \n",
    "\n",
    "        self.flatten = nn.Flatten()  \n",
    "\n",
    "    def forward(self, x):\n",
    "        x = self.flatten(x)\n",
    "        x = self.activation(self.input_layer(x))\n",
    "        for i in range(self.n_layers-1):\n",
    "            hidden_layer = getattr(self, f'hidden_{i}')\n",
    "            x = self.activation(hidden_layer(x))\n",
    "            x = self.dropout(x)\n",
    "\n",
    "        # Last layer to get the output without applying the activation funtion\n",
    "        output_layer = getattr(self, f'hidden_{self.n_layers - 1}')\n",
    "        x = output_layer(x)\n",
    "        return x\n",
    "\n",
    "\n",
    "model_encoder = Encoder(28*28).to(device)"
   ]
  },
  {
   "cell_type": "code",
   "execution_count": 4,
   "metadata": {},
   "outputs": [],
   "source": [
    "# Convert a sample image to Tensor so we can pass it thorugh our encoder to access that our model is working correctly\n",
    "\n",
    "from torchvision import transforms\n",
    "from PIL import Image\n",
    "\n",
    "image = Image.open('image.jpg')\n",
    "\n",
    "image_transform = transforms.Compose([\n",
    "    transforms.Resize((28, 28)),\n",
    "    transforms.Grayscale(),\n",
    "    transforms.ToTensor()\n",
    "])\n",
    "\n",
    "image = image_transform(image)"
   ]
  },
  {
   "cell_type": "code",
   "execution_count": 5,
   "metadata": {},
   "outputs": [
    {
     "data": {
      "text/plain": [
       "<matplotlib.image.AxesImage at 0x2264fd27920>"
      ]
     },
     "execution_count": 5,
     "metadata": {},
     "output_type": "execute_result"
    },
    {
     "data": {
      "image/png": "[encoded data removed]",
      "text/plain": [
       "<Figure size 640x480 with 1 Axes>"
      ]
     },
     "metadata": {},
     "output_type": "display_data"
    }
   ],
   "source": [
    "# Print out our transformed image\n",
    "\n",
    "plt.imshow(image.permute(1, 2, 0), cmap='grey')"
   ]
  },
  {
   "cell_type": "code",
   "execution_count": 6,
   "metadata": {},
   "outputs": [
    {
     "data": {
      "text/plain": [
       "Encoder(\n",
       "  (input_layer): Linear(in_features=784, out_features=256, bias=True)\n",
       "  (hidden_0): Linear(in_features=256, out_features=128, bias=True)\n",
       "  (hidden_1): Linear(in_features=128, out_features=64, bias=True)\n",
       "  (hidden_2): Linear(in_features=64, out_features=32, bias=True)\n",
       "  (hidden_3): Linear(in_features=32, out_features=16, bias=True)\n",
       "  (activation): ReLU()\n",
       "  (dropout): Dropout(p=0.2, inplace=False)\n",
       "  (flatten): Flatten(start_dim=1, end_dim=-1)\n",
       ")"
      ]
     },
     "execution_count": 6,
     "metadata": {},
     "output_type": "execute_result"
    }
   ],
   "source": [
    "# Print out the model class initialization\n",
    "\n",
    "model_encoder"
   ]
  },
  {
   "cell_type": "code",
   "execution_count": 7,
   "metadata": {},
   "outputs": [
    {
     "data": {
      "text/plain": [
       "torch.Size([1, 1, 28, 28])"
      ]
     },
     "execution_count": 7,
     "metadata": {},
     "output_type": "execute_result"
    }
   ],
   "source": [
    "# Getting our image dimensions ready to pass into the encoder\n",
    "image = image.to(device)\n",
    "image = image.unsqueeze(dim=0)\n",
    "image.shape\n",
    "# flatten = nn.Flatten()\n",
    "# flat_image = flatten(image)\n",
    "# flat_image.shape\n"
   ]
  },
  {
   "cell_type": "code",
   "execution_count": 8,
   "metadata": {},
   "outputs": [
    {
     "data": {
      "text/plain": [
       "torch.Size([1, 16])"
      ]
     },
     "execution_count": 8,
     "metadata": {},
     "output_type": "execute_result"
    }
   ],
   "source": [
    "# the output of our encoder model when we pass the image\n",
    "output = model_encoder(image)\n",
    "output.shape"
   ]
  },
  {
   "cell_type": "code",
   "execution_count": 9,
   "metadata": {},
   "outputs": [],
   "source": [
    "# Decoder Model Class\n",
    "class Decoder(nn.Module):\n",
    "    def __init__(self, encoder, activation=nn.ReLU()):\n",
    "        super().__init__()\n",
    "\n",
    "        self.n_layers = encoder.n_layers\n",
    "\n",
    "        self.hidden_units = encoder.hidden_units\n",
    "\n",
    "        self.hidden_units = self.hidden_units[::-1]\n",
    "\n",
    "        self.input_shape = encoder.input_shape\n",
    "\n",
    "        for i in range(self.n_layers):\n",
    "            setattr(self, f'hidden_{i}', nn.Linear(self.hidden_units[i],\n",
    "                                                   self.hidden_units[i+1]))\n",
    "            \n",
    "        self.output_layer = nn.Linear(self.hidden_units[i+1], self.input_shape)\n",
    "\n",
    "        self.dropout = encoder.dropout\n",
    "        self.activation = activation\n",
    "    \n",
    "    def forward(self, x):\n",
    "        \n",
    "        for i in range(self.n_layers):\n",
    "            hidden_layer = getattr(self, f'hidden_{i}')\n",
    "            x = hidden_layer(x)\n",
    "            x = self.activation(x)\n",
    "            x = self.dropout(x)\n",
    "        \n",
    "        output = self.output_layer(x)\n",
    "        return output\n",
    "\n"
   ]
  },
  {
   "cell_type": "code",
   "execution_count": 10,
   "metadata": {},
   "outputs": [],
   "source": [
    "# Instanciate our decoder model class\n",
    "model_decoder = Decoder(model_encoder).to(device)"
   ]
  },
  {
   "cell_type": "code",
   "execution_count": 11,
   "metadata": {},
   "outputs": [
    {
     "data": {
      "text/plain": [
       "Decoder(\n",
       "  (hidden_0): Linear(in_features=16, out_features=32, bias=True)\n",
       "  (hidden_1): Linear(in_features=32, out_features=64, bias=True)\n",
       "  (hidden_2): Linear(in_features=64, out_features=128, bias=True)\n",
       "  (hidden_3): Linear(in_features=128, out_features=256, bias=True)\n",
       "  (output_layer): Linear(in_features=256, out_features=784, bias=True)\n",
       "  (dropout): Dropout(p=0.2, inplace=False)\n",
       "  (activation): ReLU()\n",
       ")"
      ]
     },
     "execution_count": 11,
     "metadata": {},
     "output_type": "execute_result"
    }
   ],
   "source": [
    "# Print out the model class initialization\n",
    "model_decoder"
   ]
  },
  {
   "cell_type": "code",
   "execution_count": 12,
   "metadata": {},
   "outputs": [
    {
     "data": {
      "text/plain": [
       "torch.Size([1, 784])"
      ]
     },
     "execution_count": 12,
     "metadata": {},
     "output_type": "execute_result"
    }
   ],
   "source": [
    "# Passing the output of our encoder into the decoder\n",
    "\n",
    "decoder_output = model_decoder(output)\n",
    "decoder_output.shape"
   ]
  },
  {
   "cell_type": "code",
   "execution_count": 13,
   "metadata": {},
   "outputs": [],
   "source": [
    "# reshaping the output of the decoder into the shape of the original image \n",
    "reshaped_output = decoder_output.reshape(1, 28, 28).detach().cpu()"
   ]
  },
  {
   "cell_type": "code",
   "execution_count": 14,
   "metadata": {},
   "outputs": [
    {
     "data": {
      "text/plain": [
       "<matplotlib.image.AxesImage at 0x2265f5319d0>"
      ]
     },
     "execution_count": 14,
     "metadata": {},
     "output_type": "execute_result"
    },
    {
     "data": {
      "image/png": "[encoded data removed]",
      "text/plain": [
       "<Figure size 640x480 with 1 Axes>"
      ]
     },
     "metadata": {},
     "output_type": "display_data"
    }
   ],
   "source": [
    "# Print our the reshaped decoder output\n",
    "\n",
    "plt.imshow(reshaped_output.permute(1, 2, 0))"
   ]
  },
  {
   "cell_type": "code",
   "execution_count": 15,
   "metadata": {},
   "outputs": [],
   "source": [
    "# AutoEncoder Model Class\n",
    "\n",
    "class AutoEncoder(nn.Module):\n",
    "    def __init__(self, input_shape):\n",
    "        super().__init__()\n",
    "\n",
    "        self.encoder = Encoder(input_shape=input_shape)\n",
    "\n",
    "        self.decoder = Decoder(self.encoder)\n",
    "\n",
    "    def forward(self, x):\n",
    "        encoded = self.encoder(x)\n",
    "        decoded = self.decoder(encoded)\n",
    "        return encoded, decoded\n"
   ]
  },
  {
   "cell_type": "code",
   "execution_count": 16,
   "metadata": {},
   "outputs": [],
   "source": [
    "# Instanciate the AutoEncoder model class\n",
    "\n",
    "model_autoencoder = AutoEncoder(input_shape=28*28).to(device)"
   ]
  },
  {
   "cell_type": "code",
   "execution_count": 17,
   "metadata": {},
   "outputs": [],
   "source": [
    "# Download the MNIST dataset\n",
    "\n",
    "from torchvision import datasets\n",
    "from torch.utils.data import ConcatDataset\n",
    "\n",
    "\n",
    "train_data = datasets.MNIST(root='./',\n",
    "                            train=True,\n",
    "                            transform=torchvision.transforms.ToTensor(),\n",
    "                            target_transform=None,\n",
    "                            download=True)\n",
    "\n",
    "test_data = datasets.MNIST(root='./',\n",
    "                           train=False,\n",
    "                           transform=torchvision.transforms.ToTensor(),\n",
    "                           target_transform=None,\n",
    "                           download=True)\n",
    "\n",
    "dataset = ConcatDataset([train_data, test_data])"
   ]
  },
  {
   "cell_type": "code",
   "execution_count": 18,
   "metadata": {},
   "outputs": [],
   "source": [
    "# Create dataloaders form the dataset\n",
    "\n",
    "from torch.utils.data import DataLoader\n",
    "\n",
    "BATCH_SIZE = 32\n",
    "\n",
    "train_dataloader = DataLoader(dataset=train_data,\n",
    "                              batch_size=BATCH_SIZE,\n",
    "                              shuffle=True)\n",
    "\n",
    "test_dataloader = DataLoader(dataset=test_data,\n",
    "                             batch_size=BATCH_SIZE,\n",
    "                             shuffle=False)\n",
    "\n",
    "dataloader = DataLoader(dataset=dataset,\n",
    "                        batch_size=BATCH_SIZE,\n",
    "                        shuffle=True)"
   ]
  },
  {
   "cell_type": "code",
   "execution_count": 19,
   "metadata": {},
   "outputs": [
    {
     "data": {
      "text/plain": [
       "<matplotlib.image.AxesImage at 0x2265f5602f0>"
      ]
     },
     "execution_count": 19,
     "metadata": {},
     "output_type": "execute_result"
    },
    {
     "data": {
      "image/png": "[encoded data removed]",
      "text/plain": [
       "<Figure size 640x480 with 2 Axes>"
      ]
     },
     "metadata": {},
     "output_type": "display_data"
    }
   ],
   "source": [
    "# Testing out what a normalization does to an image\n",
    "\n",
    "normalize = transforms.Normalize(0.5, 0.5)\n",
    "normalize_output = normalize(image.squeeze(dim=0))\n",
    "\n",
    "\n",
    "plt.subplot(1, 2, 1)\n",
    "plt.imshow(image.squeeze(dim=0).cpu().permute(1, 2, 0))\n",
    "plt.title('Before')\n",
    "\n",
    "plt.subplot(1 , 2, 2)\n",
    "plt.imshow(normalize_output.cpu().permute(1, 2, 0))"
   ]
  },
  {
   "cell_type": "code",
   "execution_count": null,
   "metadata": {},
   "outputs": [],
   "source": []
  },
  {
   "cell_type": "code",
   "execution_count": 20,
   "metadata": {},
   "outputs": [],
   "source": [
    "# Initialize the loss function, optimizer and the scheduler\n",
    "\n",
    "from torch.optim import lr_scheduler\n",
    "\n",
    "loss_fn = nn.MSELoss()\n",
    "optimizer = torch.optim.SGD(params=model_autoencoder.parameters(),\n",
    "                            lr=0.1)\n",
    "\n",
    "scheduler = lr_scheduler.StepLR(optimizer=optimizer, step_size=5, gamma=0.1)"
   ]
  },
  {
   "cell_type": "code",
   "execution_count": 21,
   "metadata": {},
   "outputs": [
    {
     "name": "stdout",
     "output_type": "stream",
     "text": [
      "1/1875\n",
      "251/1875\n",
      "501/1875\n",
      "751/1875\n",
      "1001/1875\n",
      "1251/1875\n",
      "1501/1875\n",
      "1751/1875\n",
      "Epoch: 0 | Loss: 0.0851\n",
      "1/1875\n",
      "251/1875\n",
      "501/1875\n",
      "751/1875\n",
      "1001/1875\n",
      "1251/1875\n",
      "1501/1875\n",
      "1751/1875\n",
      "Epoch: 1 | Loss: 0.0694\n",
      "1/1875\n",
      "251/1875\n",
      "501/1875\n",
      "751/1875\n",
      "1001/1875\n",
      "1251/1875\n",
      "1501/1875\n",
      "1751/1875\n",
      "Epoch: 2 | Loss: 0.0688\n",
      "1/1875\n",
      "251/1875\n",
      "501/1875\n",
      "751/1875\n",
      "1001/1875\n",
      "1251/1875\n",
      "1501/1875\n",
      "1751/1875\n",
      "Epoch: 3 | Loss: 0.0685\n",
      "1/1875\n",
      "251/1875\n",
      "501/1875\n",
      "751/1875\n",
      "1001/1875\n",
      "1251/1875\n",
      "1501/1875\n",
      "1751/1875\n",
      "Epoch: 4 | Loss: 0.0683\n",
      "1/1875\n",
      "251/1875\n",
      "501/1875\n",
      "751/1875\n",
      "1001/1875\n",
      "1251/1875\n",
      "1501/1875\n",
      "1751/1875\n",
      "Epoch: 5 | Loss: 0.0682\n",
      "1/1875\n",
      "251/1875\n",
      "501/1875\n",
      "751/1875\n",
      "1001/1875\n",
      "1251/1875\n",
      "1501/1875\n",
      "1751/1875\n",
      "Epoch: 6 | Loss: 0.0682\n",
      "1/1875\n",
      "251/1875\n",
      "501/1875\n",
      "751/1875\n",
      "1001/1875\n",
      "1251/1875\n",
      "1501/1875\n",
      "1751/1875\n",
      "Epoch: 7 | Loss: 0.0682\n",
      "1/1875\n",
      "251/1875\n",
      "501/1875\n",
      "751/1875\n",
      "1001/1875\n",
      "1251/1875\n",
      "1501/1875\n",
      "1751/1875\n",
      "Epoch: 8 | Loss: 0.0682\n",
      "1/1875\n",
      "251/1875\n",
      "501/1875\n",
      "751/1875\n",
      "1001/1875\n",
      "1251/1875\n",
      "1501/1875\n",
      "1751/1875\n",
      "Epoch: 9 | Loss: 0.0682\n"
     ]
    }
   ],
   "source": [
    "# Train our autoencoder model\n",
    "\n",
    "num_epochs = 10\n",
    "\n",
    "# list of loss for each epochs so we can compare it later in graph\n",
    "loss_for_graph = []\n",
    "\n",
    "\n",
    "for epoch in range(num_epochs):\n",
    "    model_autoencoder.train()\n",
    "\n",
    "    train_loss = 0\n",
    "    \n",
    "    \n",
    "    \n",
    "    for index, (image, label) in enumerate(train_dataloader):\n",
    "\n",
    "        image, label = image.to(device), label.to(device)\n",
    "\n",
    "\n",
    "        image = image.view(image.shape[0], -1) # .view() is used to reshape tensor in python. the resulting number of values is preserved in the .view(). -1 is used as input parameter in the case to let the python decide what dimension make sense to put there as to preserve the total number of values in the resulting tensor. say i have an tensor of shape (3, 100, 100, 75) and then i put the `.view(3, -1)` then the python would reshape it into the (3, 100*100*75) which is shape (3, 750000)\n",
    "\n",
    "\n",
    "        model_output = model_autoencoder(image)\n",
    "\n",
    "        loss = loss_fn(model_output[1], image)\n",
    "\n",
    "        train_loss += loss\n",
    "\n",
    "        \n",
    "\n",
    "        optimizer.zero_grad()\n",
    "        loss.backward()\n",
    "        optimizer.step()\n",
    "\n",
    "        if index % 250 == 0:\n",
    "            print(f'{index+1}/{len(train_dataloader)}')\n",
    "        \n",
    "    scheduler.step()\n",
    "    \n",
    "    train_loss /= len(train_dataloader)\n",
    "\n",
    "    loss_for_graph.append(train_loss.item())\n",
    "\n",
    "    print(f'Epoch: {epoch} | Loss: {train_loss:.4f}')\n"
   ]
  },
  {
   "cell_type": "code",
   "execution_count": 22,
   "metadata": {},
   "outputs": [
    {
     "data": {
      "text/plain": [
       "(0.0, 0.1)"
      ]
     },
     "execution_count": 22,
     "metadata": {},
     "output_type": "execute_result"
    },
    {
     "data": {
      "image/png": "[encoded data removed]",
      "text/plain": [
       "<Figure size 640x480 with 1 Axes>"
      ]
     },
     "metadata": {},
     "output_type": "display_data"
    }
   ],
   "source": [
    "# Graph of loss over time (epochs)\n",
    "\n",
    "plt.plot(range(num_epochs), loss_for_graph)\n",
    "plt.title('Loss vs epochs')\n",
    "plt.ylim(0, 0.1)"
   ]
  },
  {
   "cell_type": "code",
   "execution_count": 23,
   "metadata": {},
   "outputs": [
    {
     "data": {
      "text/plain": [
       "<matplotlib.image.AxesImage at 0x2266595fbc0>"
      ]
     },
     "execution_count": 23,
     "metadata": {},
     "output_type": "execute_result"
    },
    {
     "data": {
      "image/png": "[encoded data removed]",
      "text/plain": [
       "<Figure size 640x480 with 2 Axes>"
      ]
     },
     "metadata": {},
     "output_type": "display_data"
    }
   ],
   "source": [
    "# print out the output of our autoencoder when an image is passed thorugh it\n",
    "\n",
    "image, label = train_data[10044]\n",
    "\n",
    "plt.subplot(1, 2, 1)\n",
    "plt.imshow(image.permute(1, 2, 0), cmap='grey')\n",
    "\n",
    "output = model_autoencoder(image.to(device))\n",
    "output = output[1].reshape(1, 28, 28)\n",
    "output = output.detach().cpu()\n",
    "\n",
    "plt.subplot(1, 2, 2)\n",
    "plt.imshow(output.permute(1, 2, 0), cmap='grey')\n"
   ]
  },
  {
   "cell_type": "code",
   "execution_count": 24,
   "metadata": {},
   "outputs": [
    {
     "data": {
      "text/plain": [
       "(torch.Size([60000, 16]), torch.Size([60000]))"
      ]
     },
     "execution_count": 24,
     "metadata": {},
     "output_type": "execute_result"
    }
   ],
   "source": [
    "# Get all the encoded output for all of our input images\n",
    "# Also get the labels of images, so we can compare the accuracy of the model as it classifies the latent representation of the model(unsupervised learning) into the labels\n",
    "\n",
    "with torch.inference_mode():\n",
    "    model_autoencoder.eval()\n",
    "\n",
    "    encoded_data = []\n",
    "    label_data = []\n",
    "    for image, label in train_dataloader:\n",
    "        image = image.to(device)\n",
    "\n",
    "        encoded_batch = model_autoencoder(image)[0].detach().cpu()\n",
    "        # print(encoded_batch.shape)\n",
    "        encoded_data += encoded_batch\n",
    "        label_data += label\n",
    "       \n",
    "encoded_data = torch.stack(encoded_data)\n",
    "label_data = torch.stack(label_data)\n",
    "\n",
    "encoded_data.shape, label_data.shape\n"
   ]
  },
  {
   "cell_type": "code",
   "execution_count": 25,
   "metadata": {},
   "outputs": [],
   "source": [
    "# apply kmeans clustering on our encoded \n",
    "\n",
    "from sklearn.cluster import KMeans\n",
    "\n",
    "n_clusters = 10\n",
    "\n",
    "kmeans = KMeans(n_clusters=n_clusters)\n",
    "\n",
    "cluster_labels = kmeans.fit_predict(encoded_data)"
   ]
  },
  {
   "cell_type": "code",
   "execution_count": 26,
   "metadata": {},
   "outputs": [
    {
     "name": "stdout",
     "output_type": "stream",
     "text": [
      "15.83 %\n"
     ]
    }
   ],
   "source": [
    "# Get the ami(adjusted mutual info) score for the clustering\n",
    "\n",
    "from sklearn.metrics import adjusted_mutual_info_score\n",
    "\n",
    "ami_score = adjusted_mutual_info_score(label_data, cluster_labels)\n",
    "\n",
    "print(f'{ami_score*100:.2f} %')"
   ]
  },
  {
   "cell_type": "code",
   "execution_count": 27,
   "metadata": {},
   "outputs": [],
   "source": [
    "cluster_labels = torch.tensor(cluster_labels)"
   ]
  },
  {
   "cell_type": "code",
   "execution_count": 28,
   "metadata": {},
   "outputs": [
    {
     "data": {
      "text/plain": [
       "tensor([1, 6, 0,  ..., 8, 8, 6], dtype=torch.int32)"
      ]
     },
     "execution_count": 28,
     "metadata": {},
     "output_type": "execute_result"
    }
   ],
   "source": [
    "cluster_labels"
   ]
  },
  {
   "cell_type": "code",
   "execution_count": 29,
   "metadata": {},
   "outputs": [],
   "source": [
    "# make and plot the confusion matrix bwtween the cluster labels and the true labels\n",
    "\n",
    "from torchmetrics import ConfusionMatrix\n",
    "from mlxtend.plotting import plot_confusion_matrix\n",
    "\n",
    "confusion_matrix = ConfusionMatrix(task='multiclass', num_classes=10)\n",
    "\n",
    "confusion_matrix_tensor = confusion_matrix(cluster_labels, label_data)"
   ]
  },
  {
   "cell_type": "code",
   "execution_count": 30,
   "metadata": {},
   "outputs": [
    {
     "data": {
      "image/png": "[encoded data removed]",
      "text/plain": [
       "<Figure size 640x480 with 1 Axes>"
      ]
     },
     "metadata": {},
     "output_type": "display_data"
    }
   ],
   "source": [
    "# Plot the confusion matrix\n",
    "fig, ax = plot_confusion_matrix(\n",
    "    conf_mat=confusion_matrix_tensor.numpy(),\n",
    "    class_names=test_data.classes\n",
    ")"
   ]
  },
  {
   "cell_type": "code",
   "execution_count": 31,
   "metadata": {},
   "outputs": [
    {
     "data": {
      "text/plain": [
       "[466, 156, 171, 424, 152, 254, 350, 2482, 1117, 338]"
      ]
     },
     "execution_count": 31,
     "metadata": {},
     "output_type": "execute_result"
    }
   ],
   "source": [
    "confusion_matrix_tensor.shape\n",
    "confusion_matrix_tensor[9, 9]\n",
    "\n",
    "# Get all the number of correct predicted labels in the unsupervised learning \n",
    "correct = []\n",
    "for i in range(len(train_data.classes)):\n",
    "    x = confusion_matrix_tensor[i, i].item()\n",
    "    # print(x)\n",
    "    correct.append(x)\n",
    "\n",
    "correct"
   ]
  },
  {
   "cell_type": "code",
   "execution_count": 32,
   "metadata": {},
   "outputs": [
    {
     "data": {
      "text/plain": [
       "5910"
      ]
     },
     "execution_count": 32,
     "metadata": {},
     "output_type": "execute_result"
    }
   ],
   "source": [
    "total = 0\n",
    "total += sum(correct)\n",
    "total"
   ]
  },
  {
   "cell_type": "code",
   "execution_count": 33,
   "metadata": {},
   "outputs": [
    {
     "name": "stdout",
     "output_type": "stream",
     "text": [
      "Model Accuracy: 9.85 %\n"
     ]
    }
   ],
   "source": [
    "# get the accuracy of the model\n",
    "Accuracy = (total/len(train_data)) * 100\n",
    "print(f'Model Accuracy: {Accuracy:.2f} %')"
   ]
  }
 ],
 "metadata": {
  "kernelspec": {
   "display_name": ".venv",
   "language": "python",
   "name": "python3"
  },
  "language_info": {
   "codemirror_mode": {
    "name": "ipython",
    "version": 3
   },
   "file_extension": ".py",
   "mimetype": "text/x-python",
   "name": "python",
   "nbconvert_exporter": "python",
   "pygments_lexer": "ipython3",
   "version": "3.12.3"
  }
 },
 "nbformat": 4,
 "nbformat_minor": 2
}
