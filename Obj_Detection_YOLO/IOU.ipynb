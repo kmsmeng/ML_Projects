{
 "cells": [
  {
   "cell_type": "code",
   "execution_count": 1,
   "metadata": {},
   "outputs": [],
   "source": [
    "import torch"
   ]
  },
  {
   "cell_type": "code",
   "execution_count": 2,
   "metadata": {},
   "outputs": [
    {
     "name": "stderr",
     "output_type": "stream",
     "text": [
      "<>:2: SyntaxWarning: invalid escape sequence '\\c'\n",
      "<>:2: SyntaxWarning: invalid escape sequence '\\c'\n",
      "C:\\Users\\ASUS\\AppData\\Local\\Temp\\ipykernel_32296\\3021620065.py:2: SyntaxWarning: invalid escape sequence '\\c'\n",
      "  '''\n"
     ]
    }
   ],
   "source": [
    "def intersection_over_union(boxes_preds, boxes_labels, box_format='midpoint'):\n",
    "    '''\n",
    "    Calculates intersection over union\n",
    "\n",
    "    Parameters:\n",
    "        boxes_preds (tensor): Predictions of Bounding Boxes (BATCH_SIZE, 4)\n",
    "        boxes_labels (tensor): Correct labels of Bounding Boxes (BATCH_SIZE, 4)\n",
    "        box_format (str): midpoint\\corners, if boxes (x, y, w, h) or (x1, y1, x2, y2)\n",
    "\n",
    "    Returns:\n",
    "        tensor: Intersection over union for all examples\n",
    "    '''\n",
    "\n",
    "\n",
    "    # boxes_preds shape is (N, 4) where N is the number of boxes\n",
    "    # boxes_labels shape is (N, 4)\n",
    "\n",
    "    if box_format == 'midpoint':\n",
    "        box1_x1 = boxes_preds[..., 0:1] - boxes_preds[..., 2:3] / 2\n",
    "        box1_y1 = boxes_preds[..., 1:2] - boxes_preds[..., 3:4] / 2\n",
    "        box1_x2 = boxes_preds[..., 0:1] + boxes_preds[..., 2:3] / 2\n",
    "        box1_y2 = boxes_preds[..., 1:2] + boxes_preds[..., 3:4] / 2\n",
    "        box2_x1 = boxes_labels[..., 0:1] - boxes_labels[..., 2:3] / 2\n",
    "        box2_y1 = boxes_labels[..., 1:2] - boxes_labels[..., 3:4] / 2\n",
    "        box2_x2 = boxes_labels[..., 0:1] + boxes_labels[..., 2:3] / 2\n",
    "        box2_y2 = boxes_labels[..., 1:2] + boxes_labels[..., 3:4] / 2\n",
    "\n",
    "    elif box_format == 'corners':\n",
    "        box1_x1 = boxes_preds[..., 0:1]\n",
    "        box1_y1 = boxes_preds[..., 1:2]\n",
    "        box1_x2 = boxes_preds[..., 2:3]\n",
    "        box1_y2 = boxes_preds[..., 3:4] # (N, 1)\n",
    "        box2_x1 = boxes_labels[..., 0:1]\n",
    "        box2_y1 = boxes_labels[..., 1:2]\n",
    "        box2_x2 = boxes_labels[..., 2:3]\n",
    "        box2_y2 = boxes_labels[..., 3:4]\n",
    "\n",
    "\n",
    "    x1 = torch.max(box1_x1, box2_x1)\n",
    "    y1 = torch.max(box1_y1, box2_y1)\n",
    "    x2 = torch.min(box1_x2, box2_x2)\n",
    "    y2 = torch.min(box1_y2, box2_y2)\n",
    "\n",
    "    # .clamp(0) is for the case when they do not intersect\n",
    "    intersection = (x2 - x1).clamp(0) * (y2 - y1).clamp(0)\n",
    "\n",
    "    # box1_area = abs((box1_x2 - box1_x1) * (box1_y1 - box1_y2))\n",
    "    # box2_area = abs((box2_x2 - box2_x1) * (box2_y1 - box2_y2))\n",
    "\n",
    "    box1_area = abs((box1_x2 - box1_x1) * (box1_y2 - box1_y1))\n",
    "    box2_area = abs((box2_x2 - box2_x1) * (box2_y2 - box2_y1))\n",
    "\n",
    "    return intersection / (box1_area + box2_area - intersection + 1e-6)"
   ]
  },
  {
   "cell_type": "code",
   "execution_count": 3,
   "metadata": {},
   "outputs": [],
   "source": [
    "# ---------------------------\n",
    "# Tensor slicing:\n",
    "#\n",
    "# [:, _] --> take all values along the FIRST dimension,\n",
    "#            then slice the SECOND dimension as specified.\n",
    "# (Good for 2D tensors like (N, 4))\n",
    "#\n",
    "# [..., _] --> take all values across ALL dimensions EXCEPT the LAST,\n",
    "#                then slice the LAST dimension as specified.\n",
    "# (Good for any tensor: 2D, 3D, 4D, etc.)\n",
    "# (Future-proof if using batches, like (B, N, 4))\n",
    "#\n",
    "# Example:\n",
    "#   tensor shape (N, 4):\n",
    "#       [:, 0:1] == [..., 0:1]   --> both OK\n",
    "#\n",
    "#   tensor shape (B, N, 4):\n",
    "#       [:, 0:1] --> WRONG\n",
    "#       [..., 0:1] --> CORRECT\n",
    "#\n",
    "# Bottom line:\n",
    "#   Use [..., ] for better generalization across different tensor shapes.\n",
    "# ---------------------------\n"
   ]
  },
  {
   "cell_type": "code",
   "execution_count": 4,
   "metadata": {},
   "outputs": [
    {
     "data": {
      "text/plain": [
       "[[0, 0.95, 100, 100, 200, 200],\n",
       " [0, 0.8, 400, 400, 500, 500],\n",
       " [1, 0.92, 100, 100, 200, 200],\n",
       " [1, 0.5, 600, 600, 700, 700],\n",
       " [2, 0.88, 150, 150, 250, 250],\n",
       " [2, 0.45, 700, 700, 800, 800]]"
      ]
     },
     "execution_count": 4,
     "metadata": {},
     "output_type": "execute_result"
    }
   ],
   "source": [
    "# Non Max suppression\n",
    "\n",
    "def non_max_suppression(bboxes, iou_threshold, box_format):\n",
    "    \"\"\"\n",
    "    Performs Non-Max Suppression (NMS) on bounding boxes.\n",
    "\n",
    "    Parameters:\n",
    "        bboxes (list): List of bounding boxes with each box specified as \n",
    "                       [class, confidence, x1, y1, x2, y2] if box_format=\"corners\".\n",
    "        iou_threshold (float): IoU threshold for suppressing overlapping boxes.\n",
    "        box_format (str): \"corners\" or \"midpoint\" to specify bounding box format.\n",
    "\n",
    "    Returns:\n",
    "        list: Remaining bounding boxes after applying NMS.\n",
    "    \"\"\"\n",
    "\n",
    "    # bboxes is expected to be in the format of [[class, iou, x1, y1, x2, y2], [...], [...], ...]\n",
    "\n",
    "    assert type(bboxes) == list\n",
    "    bboxes = sorted(bboxes, key=lambda x: x[1], reverse=True)\n",
    "\n",
    "    nms_bboxes = []\n",
    "\n",
    "    while bboxes:\n",
    "        chosen_bbox = bboxes.pop(0)\n",
    "        bboxes = [box for box in bboxes if box[0] != chosen_bbox[0] or intersection_over_union(torch.tensor(box[2:]), torch.tensor(chosen_bbox[2:]), box_format=box_format) < iou_threshold]\n",
    "\n",
    "        nms_bboxes.append(chosen_bbox)\n",
    "\n",
    "    return sorted(nms_bboxes, key=lambda x:x[0])\n",
    "\n",
    "bboxes = [\n",
    "    [0, 0.95, 100, 100, 200, 200],   # Box A: High confidence\n",
    "    [0, 0.60, 110, 110, 210, 210],   # Box B: Overlaps Box A (same class)\n",
    "    [0, 0.80, 400, 400, 500, 500],   # Box C: Same class, no overlap\n",
    "    [0, 0.30, 405, 405, 495, 495],   # Box D: Overlaps Box C (same class)\n",
    "    \n",
    "    [1, 0.92, 100, 100, 200, 200],   # Box E: Different class, overlaps Box A\n",
    "    [1, 0.40, 105, 105, 195, 195],   # Box F: Overlaps Box E (same class)\n",
    "    [1, 0.50, 600, 600, 700, 700],   # Box G: No overlap\n",
    "    \n",
    "    [2, 0.88, 150, 150, 250, 250],   # Box H: Different class, slight overlap with A/E\n",
    "    [2, 0.65, 152, 152, 248, 248],   # Box I: Overlaps with H\n",
    "    [2, 0.45, 700, 700, 800, 800],   # Box J: No overlap\n",
    "]\n",
    "\n",
    "\n",
    "nms_box = non_max_suppression(bboxes=bboxes, iou_threshold=0.5, box_format='corners')\n",
    "nms_box\n"
   ]
  },
  {
   "cell_type": "code",
   "execution_count": 5,
   "metadata": {},
   "outputs": [
    {
     "data": {
      "text/plain": [
       "[[0, 0.95, 150, 150, 100, 100],\n",
       " [0, 0.75, 500, 500, 120, 120],\n",
       " [1, 0.92, 150, 150, 100, 100],\n",
       " [1, 0.7, 800, 800, 130, 130],\n",
       " [2, 0.88, 300, 300, 90, 90],\n",
       " [2, 0.6, 700, 700, 120, 120],\n",
       " [3, 0.91, 400, 400, 150, 150],\n",
       " [3, 0.3, 600, 600, 100, 100],\n",
       " [4, 0.85, 200, 200, 80, 80]]"
      ]
     },
     "execution_count": 5,
     "metadata": {},
     "output_type": "execute_result"
    }
   ],
   "source": [
    "bboxes = [\n",
    "    [0, 0.95, 150, 150, 100, 100],   # A: High confidence\n",
    "    [0, 0.60, 155, 155, 100, 100],   # B: Overlaps A, same class\n",
    "    [0, 0.75, 500, 500, 120, 120],   # C: Distant box, same class\n",
    "    [0, 0.40, 510, 510, 110, 110],   # D: Overlaps C, lower confidence\n",
    "    \n",
    "    [1, 0.92, 150, 150, 100, 100],   # E: Diff class, same location as A\n",
    "    [1, 0.45, 148, 152, 90, 90],     # F: Overlaps E, lower conf\n",
    "    [1, 0.70, 800, 800, 130, 130],   # G: No overlap\n",
    "\n",
    "    [2, 0.88, 300, 300, 90, 90],     # H: New class\n",
    "    [2, 0.65, 305, 305, 88, 88],     # I: Overlaps H\n",
    "    [2, 0.60, 700, 700, 120, 120],   # J: Distant box\n",
    "\n",
    "    [3, 0.91, 400, 400, 150, 150],   # K: Another class\n",
    "    [3, 0.50, 410, 410, 140, 140],   # L: Overlaps K\n",
    "    [3, 0.30, 600, 600, 100, 100],   # M: Isolated, low conf\n",
    "\n",
    "    [4, 0.85, 200, 200, 80, 80],     # N: Unique class\n",
    "    [4, 0.55, 205, 205, 80, 80],     # O: Overlaps N\n",
    "]\n",
    "\n",
    "nms_box = non_max_suppression(bboxes=bboxes, iou_threshold=0.5, box_format='midpoint')\n",
    "nms_box"
   ]
  },
  {
   "cell_type": "code",
   "execution_count": 128,
   "metadata": {},
   "outputs": [
    {
     "data": {
      "image/png": "[encoded data removed]",
      "text/plain": [
       "<Figure size 640x480 with 1 Axes>"
      ]
     },
     "metadata": {},
     "output_type": "display_data"
    },
    {
     "data": {
      "image/png": "[encoded data removed]",
      "text/plain": [
       "<Figure size 640x480 with 1 Axes>"
      ]
     },
     "metadata": {},
     "output_type": "display_data"
    }
   ],
   "source": [
    "import matplotlib.pyplot as plt\n",
    "from matplotlib.patches import Rectangle\n",
    "\n",
    "\n",
    "def display_box(boxes, box_format):\n",
    "    '''the boxes are in the format [class, iou, x1, y1, width, height]'''\n",
    "\n",
    "    # Convert the list of bounding boxes into tensor\n",
    "    bboxes = torch.tensor(boxes)\n",
    "\n",
    "    # for the box format specified convert it into necessary coordinates to pass into the matplotlib.patches.Rectangle()\n",
    "    if box_format == 'midpoint':\n",
    "        # boxes in 'midpoint' box_format are expected in the format [class, iou, x1, y1, width, height] # x1 and y1 are the midpoint of box\n",
    "        x1 = bboxes[..., 2:3]\n",
    "        y1 = bboxes[..., 3:4]\n",
    "        width = bboxes[..., 4:5]\n",
    "        height = bboxes[..., 5:6]\n",
    "\n",
    "        # here x and y correspond to the bottom left corner of the Rectangle\n",
    "        x = x1 - width/2\n",
    "        y = y1 - height/2\n",
    "\n",
    "        # find the max corrdinate associated with the bounding boxes\n",
    "        highest_overall = 0\n",
    "        for box in bboxes:\n",
    "            high_in_list = max(box[2:4])\n",
    "            if high_in_list > highest_overall:\n",
    "                highest_overall = high_in_list\n",
    "                bigger_side = max(box[4:])\n",
    "                highest_overall = highest_overall + bigger_side\n",
    "\n",
    "    if box_format == 'corners':\n",
    "        # boxes in 'corners' box_format are expected in the format [class, iou, x1, y1, x2, y2] # x1 and y1 are the nearest point form the origin and from that point across to the diagonal are the coordinates x2 and y2  \n",
    "        x1 = bboxes[..., 2:3]\n",
    "        y1 = bboxes[..., 3:4]\n",
    "        x2 = bboxes[..., 4:5]\n",
    "        y2 = bboxes[..., 5:6]\n",
    "        width = (x2-x1)\n",
    "        height = (y2-y1)\n",
    "\n",
    "        # here x and y correspond to the bottom left corner of the Rectangle\n",
    "        x = x1\n",
    "        y = y1\n",
    "\n",
    "        # find the max corrdinate associated with the bounding boxes\n",
    "        highest_overall = 0\n",
    "        highest_overall = max(max(box[2:]) for box in bboxes)\n",
    "\n",
    "    # convert the tensor to numpy\n",
    "    x = x.numpy()\n",
    "    y = y.numpy()\n",
    "    width = width.numpy()\n",
    "    height = height.numpy()\n",
    "\n",
    "    # list of colors for different class of boxes\n",
    "    colors = ['red', 'black', 'green', 'blue', 'orange', 'purple', 'brown', 'pink', 'gray', 'cyan']\n",
    "\n",
    "    fig, ax = plt.subplots()\n",
    "    \n",
    "    # if the box is one dim add extra dim is added to the 0 index (to prevent any indexing error later in the code)\n",
    "    if bboxes.dim() == 1:\n",
    "           bboxes = bboxes.unsqueeze(dim=0)\n",
    "\n",
    "    # loop through each of the bbox and print it out\n",
    "    for i in range(len(x1)):\n",
    "        box_class = int(bboxes[i][0].item())\n",
    "        rect = Rectangle([x[i], y[i]], width=width[i], height=height[i], facecolor='none', edgecolor=colors[box_class])\n",
    "        ax.add_patch(rect)\n",
    "\n",
    "        # plot the coordinates along with the coordinates label\n",
    "\n",
    "        plt.plot(x1[i], y1[i], 'o', c=colors[box_class], markersize='3')\n",
    "        plt.text(x1[i], y1[i], (int(x1[i].item()), int(y1[i].item())), fontsize=8)\n",
    "\n",
    "        if box_format == 'midpoint':\n",
    "            plt.plot(x[i], y[i], 'o')\n",
    "            plt.text(x[i], x[i], (int(x[i].item()), int(y[i].item())), fontsize=8)\n",
    "\n",
    "    # Set the max width(x-axis) and height(y-axis) of the graph \n",
    "    ax.set_xlim(0, 1.2 * highest_overall)\n",
    "    ax.set_ylim(0, 1.2 * highest_overall)\n",
    "    plt.show()\n",
    "        \n",
    "\n",
    "midpoint_boxes = [\n",
    "    [0, 0.85, 50, 50, 20, 30],\n",
    "    [1, 0.75, 100, 100, 40, 60],\n",
    "    [2, 0.90, 150, 75, 30, 20]\n",
    "]\n",
    "\n",
    "display_box(boxes=midpoint_boxes, box_format='midpoint')\n",
    "\n",
    "corner_boxes = [\n",
    "    [0, 0.85, 40, 35, 60, 65],   # x1 = 50 - 10, y1 = 50 - 15; x2 = 50 + 10, y2 = 50 + 15\n",
    "    [1, 0.75, 80, 70, 120, 130], # x1 = 100 - 20, etc.\n",
    "    [2, 0.90, 135, 65, 165, 85]\n",
    "]\n",
    "\n",
    "\n",
    "display_box(boxes=corner_boxes, box_format='corners')"
   ]
  },
  {
   "cell_type": "code",
   "execution_count": null,
   "metadata": {},
   "outputs": [],
   "source": [
    "# Mean Average Precision\n",
    "   \n",
    "# take all the boxes preds as well as boxes labels and arrange them in order (by class)\n",
    "\n",
    "# take one boxes preds('.pop(0)') and all `same class` box labels for that specific image (train index) and get theiou. if all of the values are < iou_threshold then append it to false positive list. if it has at least one value >iou_threshold then append it to the true positive list.\n",
    "\n",
    "# repeat this for all the box preds until there are none left in the box preds\n",
    "\n",
    "# calculate precision and recall\n",
    "\n",
    "\n",
    "\n",
    "\n",
    "# precision and recall \n",
    "# true positives are the bounding box predications that share iou_threshold(0.5) with target bounding box and false positives are those that dosen't.\n",
    "# false negatives means we didn't output a bounding box for a target bounding box and true negatives means we didnt output a boudning box for a target bbox that wasnt there(so we don't care about true negatives in this case).\n",
    "\n",
    "# precision = true_positives / (true_positives + false_positives)\n",
    "# out of all bounding box predictions, what fraction was actually correct\n",
    "\n",
    "# recall = true_postives / (true_positives + false_negatives)\n",
    "# out of all the target bounding boxes what fraction did we correctly detect\n",
    "\n",
    "# different application may prioritize recall and others precision\n"
   ]
  },
  {
   "cell_type": "code",
   "execution_count": 139,
   "metadata": {},
   "outputs": [],
   "source": [
    "gt_boxes = [\n",
    "    [0, 0, 1.0, 50, 50, 150, 150],\n",
    "    [0, 1, 1.0, 30, 30, 120, 120],\n",
    "    [1, 0, 1.0, 200, 200, 300, 300],\n",
    "    [1, 2, 1.0, 400, 400, 500, 500],\n",
    "    [1, 1, 1.0, 250, 100, 350, 200],\n",
    "    [2, 2, 1.0, 100, 300, 200, 400],\n",
    "    [2, 1, 1.0, 600, 600, 700, 700],\n",
    "    [2, 2, 1.0, 320, 240, 420, 340],\n",
    "    [3, 0, 1.0, 10, 10, 60, 60],\n",
    "    [3, 2, 1.0, 500, 100, 580, 180],\n",
    "    [3, 1, 1.0, 700, 700, 800, 800],\n",
    "    [3, 0, 1.0, 150, 150, 250, 250],\n",
    "    [3, 2, 1.0, 350, 350, 450, 450],\n",
    "    [4, 0, 1.0, 60, 60, 160, 160],\n",
    "    [4, 1, 1.0, 80, 80, 180, 180],\n",
    "    [4, 2, 1.0, 220, 220, 320, 320],\n",
    "    [4, 0, 1.0, 370, 370, 470, 470],\n",
    "    [4, 2, 1.0, 90, 90, 190, 190],\n",
    "    [4, 1, 1.0, 170, 170, 270, 270],\n",
    "    [4, 0, 1.0, 310, 310, 410, 410],\n",
    "]\n",
    "\n",
    "\n",
    "\n",
    "pred_boxes = [\n",
    "    [0, 0, 0.95, 52, 52, 148, 148],\n",
    "    [0, 1, 0.90, 28, 28, 125, 125],\n",
    "    [1, 0, 0.88, 205, 205, 295, 295],\n",
    "    [1, 2, 0.85, 398, 398, 502, 502],\n",
    "    [1, 1, 0.70, 255, 105, 345, 195],\n",
    "    [2, 2, 0.75, 110, 310, 190, 390],\n",
    "    [2, 1, 0.65, 605, 605, 695, 695],\n",
    "    [2, 2, 0.60, 318, 238, 422, 342],\n",
    "    [3, 0, 0.80, 12, 12, 58, 58],\n",
    "    [3, 2, 0.77, 498, 98, 582, 182],\n",
    "    [3, 1, 0.92, 705, 705, 795, 795],\n",
    "    [3, 0, 0.87, 155, 155, 245, 245],\n",
    "    [3, 2, 0.66, 352, 352, 448, 448],\n",
    "    [4, 0, 0.73, 62, 62, 158, 158],\n",
    "    [4, 1, 0.69, 85, 85, 175, 175],\n",
    "    [4, 2, 0.78, 225, 225, 315, 315],\n",
    "    [4, 0, 0.81, 375, 375, 465, 465],\n",
    "    [4, 2, 0.64, 92, 92, 188, 188],\n",
    "    [4, 1, 0.83, 172, 172, 268, 268],\n",
    "    [4, 0, 0.86, 312, 312, 408, 408],\n",
    "]"
   ]
  },
  {
   "cell_type": "code",
   "execution_count": null,
   "metadata": {},
   "outputs": [
    {
     "name": "stderr",
     "output_type": "stream",
     "text": [
      "C:\\Users\\ASUS\\AppData\\Local\\Temp\\ipykernel_32296\\2714963759.py:1: UserWarning: To copy construct from a tensor, it is recommended to use sourceTensor.clone().detach() or sourceTensor.clone().detach().requires_grad_(True), rather than torch.tensor(sourceTensor).\n",
      "  gt_boxes = torch.tensor(gt_boxes)\n"
     ]
    }
   ],
   "source": []
  },
  {
   "cell_type": "code",
   "execution_count": 143,
   "metadata": {},
   "outputs": [
    {
     "name": "stderr",
     "output_type": "stream",
     "text": [
      "C:\\Users\\ASUS\\AppData\\Local\\Temp\\ipykernel_32296\\1618595684.py:1: UserWarning: To copy construct from a tensor, it is recommended to use sourceTensor.clone().detach() or sourceTensor.clone().detach().requires_grad_(True), rather than torch.tensor(sourceTensor).\n",
      "  gt_boxes_mod = torch.tensor(gt_boxes)\n",
      "C:\\Users\\ASUS\\AppData\\Local\\Temp\\ipykernel_32296\\1162060311.py:9: UserWarning: To copy construct from a tensor, it is recommended to use sourceTensor.clone().detach() or sourceTensor.clone().detach().requires_grad_(True), rather than torch.tensor(sourceTensor).\n",
      "  bboxes = torch.tensor(boxes)\n"
     ]
    },
    {
     "data": {
      "image/png": "[encoded data removed]",
      "text/plain": [
       "<Figure size 640x480 with 1 Axes>"
      ]
     },
     "metadata": {},
     "output_type": "display_data"
    }
   ],
   "source": [
    "gt_boxes_mod = torch.tensor(gt_boxes)\n",
    "\n",
    "# display boxes accepts in the format [class_label, iou_prob, x1, y1, x2. y2]\n",
    "display_box(boxes=gt_boxes_mod[..., 1:], box_format='corners')\n",
    "# display_box(boxes=pred_boxes, box_format='corners')"
   ]
  },
  {
   "cell_type": "code",
   "execution_count": null,
   "metadata": {},
   "outputs": [],
   "source": [
    "\n",
    "def mean_average_precision(boxes_preds, boxes_labels, iou_threshold=0.5, box_format='corners', num_classes=20):\n",
    "    \n",
    "    # boxes preds (list): [[train_idx, class_pred, pred_score, x1, y1, x2, y2], [], []]\n",
    "    average_precision = []\n",
    "\n",
    "    # Iterate over each class across all the images in data to calculate the mean average precision\n",
    "    for c in range(num_classes):\n",
    "        predictions = []\n",
    "        ground_truths = []\n",
    "\n",
    "        # store all similar (nth loop) class of prediction boxes in the list\n",
    "        for detection in boxes_preds:\n",
    "            if detection[1] == c:\n",
    "                predictions.append(detection)\n",
    "\n",
    "        \n",
    "        # store all similar (nth loop) class of ground truth boxes in the list\n",
    "        for boxes in boxes_labels:\n",
    "            if boxes[1] == c:\n",
    "                ground_truths.append(boxes)\n",
    "\n",
    "        # sort the prediction and ground truths list based on the train_idx 'image number' \n",
    "        predictions = sorted(predictions, key=lambda x:x[0])\n",
    "        ground_truths = sorted(ground_truths, key=lambda x:x[0])\n",
    "\n",
    "        print(predictions)\n",
    "        print(ground_truths)\n",
    "        print('--------------')\n",
    "\n",
    "        # go over each of the predictions boxes and calcualte if they are true positives or false positives\n",
    "        x = 0\n",
    "        while predictions:\n",
    "            choosen_one = predictions.pop(0)\n",
    "            same_img_idx_gt = [box for box in ground_truths if box[0] == choosen_one[0]]\n",
    "\n",
    "            # the intersection over union function requires the list to be in tensor format\n",
    "            print(choosen_one)\n",
    "            print(same_img_idx_gt)\n",
    "            choosen_one = torch.tensor(choosen_one)\n",
    "            same_img_idx_gt = torch.tensor(same_img_idx_gt)\n",
    "            \n",
    "            iou = intersection_over_union(boxes_preds=choosen_one[3:], boxes_labels=same_img_idx_gt[..., 3:],box_format='corners')\n",
    "            print(iou)\n",
    "            \n",
    "            if x == 2:\n",
    "                break\n",
    "            x+=1\n",
    "\n",
    "            # check if our prediction box has greater iou_threshold than specified threshold by checking it for each of the ground truth boxes in that image 'in that image_idx'\n",
    "            # for x in range(len(same_img_idx_gt)):\n",
    "            #     iou = intersection_over_union(boxes_preds=choosen_one[3:], boxes_labels=same_img_idx_gt[..., 3:], box_format='corners')\n",
    "            #     print(iou)\n",
    "            \n",
    "            # print(choosen_one)\n",
    "            # print(same_img_idx_gt)\n",
    "            \n",
    "            print('_______________________________')\n",
    "        break\n",
    "\n",
    "        \n"
   ]
  },
  {
   "cell_type": "code",
   "execution_count": null,
   "metadata": {},
   "outputs": [
    {
     "name": "stdout",
     "output_type": "stream",
     "text": [
      "[[0, 0, 0.95, 52, 52, 148, 148], [1, 0, 0.88, 205, 205, 295, 295], [3, 0, 0.8, 12, 12, 58, 58], [3, 0, 0.87, 155, 155, 245, 245], [4, 0, 0.73, 62, 62, 158, 158], [4, 0, 0.81, 375, 375, 465, 465], [4, 0, 0.86, 312, 312, 408, 408]]\n",
      "[[0, 0, 1.0, 50, 50, 150, 150], [1, 0, 1.0, 200, 200, 300, 300], [3, 0, 1.0, 10, 10, 60, 60], [3, 0, 1.0, 150, 150, 250, 250], [4, 0, 1.0, 60, 60, 160, 160], [4, 0, 1.0, 370, 370, 470, 470], [4, 0, 1.0, 310, 310, 410, 410]]\n",
      "--------------\n",
      "[0, 0, 0.95, 52, 52, 148, 148]\n",
      "[[0, 0, 1.0, 50, 50, 150, 150]]\n",
      "tensor([[0.9216]])\n",
      "_______________________________\n",
      "[1, 0, 0.88, 205, 205, 295, 295]\n",
      "[[1, 0, 1.0, 200, 200, 300, 300]]\n",
      "tensor([[0.8100]])\n",
      "_______________________________\n",
      "[3, 0, 0.8, 12, 12, 58, 58]\n",
      "[[3, 0, 1.0, 10, 10, 60, 60], [3, 0, 1.0, 150, 150, 250, 250]]\n",
      "tensor([[0.8464],\n",
      "        [0.0000]])\n"
     ]
    }
   ],
   "source": [
    "mean_average_precision(boxes_preds=pred_boxes, boxes_labels=gt_boxes, iou_threshold=0.5, box_format='corners',num_classes=3)"
   ]
  },
  {
   "cell_type": "code",
   "execution_count": null,
   "metadata": {},
   "outputs": [
    {
     "name": "stderr",
     "output_type": "stream",
     "text": [
      "C:\\Users\\ASUS\\AppData\\Local\\Temp\\ipykernel_14596\\2367139569.py:1: UserWarning: To copy construct from a tensor, it is recommended to use sourceTensor.clone().detach() or sourceTensor.clone().detach().requires_grad_(True), rather than torch.tensor(sourceTensor).\n",
      "  gt_boxes = torch.tensor(gt_boxes)\n"
     ]
    },
    {
     "data": {
      "text/plain": [
       "tensor([2.])"
      ]
     },
     "execution_count": 193,
     "metadata": {},
     "output_type": "execute_result"
    }
   ],
   "source": [
    "gt_boxes = torch.tensor(gt_boxes)\n",
    "max(gt_boxes[..., 0:1])"
   ]
  },
  {
   "cell_type": "code",
   "execution_count": null,
   "metadata": {},
   "outputs": [
    {
     "data": {
      "text/plain": [
       "tensor([[1.0000],\n",
       "        [0.9216]])"
      ]
     },
     "execution_count": 301,
     "metadata": {},
     "output_type": "execute_result"
    }
   ],
   "source": [
    "x = [52, 52, 148, 148]\n",
    "y = [[52, 52, 148, 148], [50, 50, 150, 150]]\n",
    "\n",
    "iou = intersection_over_union(torch.tensor(x), torch.tensor(y), box_format='corners')\n",
    "iou"
   ]
  }
 ],
 "metadata": {
  "kernelspec": {
   "display_name": ".venv",
   "language": "python",
   "name": "python3"
  },
  "language_info": {
   "codemirror_mode": {
    "name": "ipython",
    "version": 3
   },
   "file_extension": ".py",
   "mimetype": "text/x-python",
   "name": "python",
   "nbconvert_exporter": "python",
   "pygments_lexer": "ipython3",
   "version": "3.12.3"
  }
 },
 "nbformat": 4,
 "nbformat_minor": 2
}
