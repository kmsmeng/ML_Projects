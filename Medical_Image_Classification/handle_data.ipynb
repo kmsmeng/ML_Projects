{
 "cells": [
  {
   "cell_type": "code",
   "execution_count": 32,
   "id": "91f5d248",
   "metadata": {},
   "outputs": [],
   "source": [
    "import torch\n",
    "from pathlib import Path\n",
    "from pydicom import dcmread\n",
    "from PIL import Image\n",
    "import os\n",
    "import yaml\n",
    "import pandas as pd\n",
    "import matplotlib.pyplot as plt"
   ]
  },
  {
   "cell_type": "code",
   "execution_count": 2,
   "id": "693d4c72",
   "metadata": {},
   "outputs": [
    {
     "name": "stdout",
     "output_type": "stream",
     "text": [
      "Train Data Images: 26684\n",
      "Test Data Images: 3000\n"
     ]
    }
   ],
   "source": [
    "# Get all the train data samples and test data samples path as list\n",
    "\n",
    "data_file = Path('data/pneumonia_dataset')\n",
    "\n",
    "train_path = list(data_file.glob('stage_2_train_images/*.dcm'))\n",
    "test_path = list(data_file.glob('stage_2_test_images/*.dcm'))\n",
    "print(f'Train Data Images: {len(train_path)}')\n",
    "print(f'Test Data Images: {len(test_path)}')"
   ]
  },
  {
   "cell_type": "code",
   "execution_count": 9,
   "id": "12af7f1d",
   "metadata": {},
   "outputs": [
    {
     "name": "stdout",
     "output_type": "stream",
     "text": [
      "YOLO Train Data Samples: 20000\n",
      "YOLO val Data Samples: 6684\n"
     ]
    }
   ],
   "source": [
    "# Split the total data of 26684 into train and val dataset for YOLOv8\n",
    "train_size = 20000\n",
    "\n",
    "\n",
    "yolo_train_path = train_path[0: 20000]\n",
    "val_path = train_path[20000:]\n",
    "\n",
    "print(f'YOLO Train Data Samples: {len(yolo_train_path)}')\n",
    "print(f'YOLO val Data Samples: {len(val_path)}')"
   ]
  },
  {
   "cell_type": "code",
   "execution_count": 18,
   "id": "53678393",
   "metadata": {},
   "outputs": [
    {
     "data": {
      "text/html": [
       "<div>\n",
       "<style scoped>\n",
       "    .dataframe tbody tr th:only-of-type {\n",
       "        vertical-align: middle;\n",
       "    }\n",
       "\n",
       "    .dataframe tbody tr th {\n",
       "        vertical-align: top;\n",
       "    }\n",
       "\n",
       "    .dataframe thead th {\n",
       "        text-align: right;\n",
       "    }\n",
       "</style>\n",
       "<table border=\"1\" class=\"dataframe\">\n",
       "  <thead>\n",
       "    <tr style=\"text-align: right;\">\n",
       "      <th></th>\n",
       "      <th>patientId</th>\n",
       "      <th>x</th>\n",
       "      <th>y</th>\n",
       "      <th>width</th>\n",
       "      <th>height</th>\n",
       "      <th>Target</th>\n",
       "    </tr>\n",
       "  </thead>\n",
       "  <tbody>\n",
       "    <tr>\n",
       "      <th>0</th>\n",
       "      <td>0004cfab-14fd-4e49-80ba-63a80b6bddd6</td>\n",
       "      <td>NaN</td>\n",
       "      <td>NaN</td>\n",
       "      <td>NaN</td>\n",
       "      <td>NaN</td>\n",
       "      <td>0</td>\n",
       "    </tr>\n",
       "    <tr>\n",
       "      <th>1</th>\n",
       "      <td>00313ee0-9eaa-42f4-b0ab-c148ed3241cd</td>\n",
       "      <td>NaN</td>\n",
       "      <td>NaN</td>\n",
       "      <td>NaN</td>\n",
       "      <td>NaN</td>\n",
       "      <td>0</td>\n",
       "    </tr>\n",
       "    <tr>\n",
       "      <th>2</th>\n",
       "      <td>00322d4d-1c29-4943-afc9-b6754be640eb</td>\n",
       "      <td>NaN</td>\n",
       "      <td>NaN</td>\n",
       "      <td>NaN</td>\n",
       "      <td>NaN</td>\n",
       "      <td>0</td>\n",
       "    </tr>\n",
       "    <tr>\n",
       "      <th>3</th>\n",
       "      <td>003d8fa0-6bf1-40ed-b54c-ac657f8495c5</td>\n",
       "      <td>NaN</td>\n",
       "      <td>NaN</td>\n",
       "      <td>NaN</td>\n",
       "      <td>NaN</td>\n",
       "      <td>0</td>\n",
       "    </tr>\n",
       "    <tr>\n",
       "      <th>4</th>\n",
       "      <td>00436515-870c-4b36-a041-de91049b9ab4</td>\n",
       "      <td>264.0</td>\n",
       "      <td>152.0</td>\n",
       "      <td>213.0</td>\n",
       "      <td>379.0</td>\n",
       "      <td>1</td>\n",
       "    </tr>\n",
       "    <tr>\n",
       "      <th>...</th>\n",
       "      <td>...</td>\n",
       "      <td>...</td>\n",
       "      <td>...</td>\n",
       "      <td>...</td>\n",
       "      <td>...</td>\n",
       "      <td>...</td>\n",
       "    </tr>\n",
       "    <tr>\n",
       "      <th>30222</th>\n",
       "      <td>c1ec14ff-f6d7-4b38-b0cb-fe07041cbdc8</td>\n",
       "      <td>185.0</td>\n",
       "      <td>298.0</td>\n",
       "      <td>228.0</td>\n",
       "      <td>379.0</td>\n",
       "      <td>1</td>\n",
       "    </tr>\n",
       "    <tr>\n",
       "      <th>30223</th>\n",
       "      <td>c1edf42b-5958-47ff-a1e7-4f23d99583ba</td>\n",
       "      <td>NaN</td>\n",
       "      <td>NaN</td>\n",
       "      <td>NaN</td>\n",
       "      <td>NaN</td>\n",
       "      <td>0</td>\n",
       "    </tr>\n",
       "    <tr>\n",
       "      <th>30224</th>\n",
       "      <td>c1f6b555-2eb1-4231-98f6-50a963976431</td>\n",
       "      <td>NaN</td>\n",
       "      <td>NaN</td>\n",
       "      <td>NaN</td>\n",
       "      <td>NaN</td>\n",
       "      <td>0</td>\n",
       "    </tr>\n",
       "    <tr>\n",
       "      <th>30225</th>\n",
       "      <td>c1f7889a-9ea9-4acb-b64c-b737c929599a</td>\n",
       "      <td>570.0</td>\n",
       "      <td>393.0</td>\n",
       "      <td>261.0</td>\n",
       "      <td>345.0</td>\n",
       "      <td>1</td>\n",
       "    </tr>\n",
       "    <tr>\n",
       "      <th>30226</th>\n",
       "      <td>c1f7889a-9ea9-4acb-b64c-b737c929599a</td>\n",
       "      <td>233.0</td>\n",
       "      <td>424.0</td>\n",
       "      <td>201.0</td>\n",
       "      <td>356.0</td>\n",
       "      <td>1</td>\n",
       "    </tr>\n",
       "  </tbody>\n",
       "</table>\n",
       "<p>30227 rows × 6 columns</p>\n",
       "</div>"
      ],
      "text/plain": [
       "                                  patientId      x      y  width  height  \\\n",
       "0      0004cfab-14fd-4e49-80ba-63a80b6bddd6    NaN    NaN    NaN     NaN   \n",
       "1      00313ee0-9eaa-42f4-b0ab-c148ed3241cd    NaN    NaN    NaN     NaN   \n",
       "2      00322d4d-1c29-4943-afc9-b6754be640eb    NaN    NaN    NaN     NaN   \n",
       "3      003d8fa0-6bf1-40ed-b54c-ac657f8495c5    NaN    NaN    NaN     NaN   \n",
       "4      00436515-870c-4b36-a041-de91049b9ab4  264.0  152.0  213.0   379.0   \n",
       "...                                     ...    ...    ...    ...     ...   \n",
       "30222  c1ec14ff-f6d7-4b38-b0cb-fe07041cbdc8  185.0  298.0  228.0   379.0   \n",
       "30223  c1edf42b-5958-47ff-a1e7-4f23d99583ba    NaN    NaN    NaN     NaN   \n",
       "30224  c1f6b555-2eb1-4231-98f6-50a963976431    NaN    NaN    NaN     NaN   \n",
       "30225  c1f7889a-9ea9-4acb-b64c-b737c929599a  570.0  393.0  261.0   345.0   \n",
       "30226  c1f7889a-9ea9-4acb-b64c-b737c929599a  233.0  424.0  201.0   356.0   \n",
       "\n",
       "       Target  \n",
       "0           0  \n",
       "1           0  \n",
       "2           0  \n",
       "3           0  \n",
       "4           1  \n",
       "...       ...  \n",
       "30222       1  \n",
       "30223       0  \n",
       "30224       0  \n",
       "30225       1  \n",
       "30226       1  \n",
       "\n",
       "[30227 rows x 6 columns]"
      ]
     },
     "execution_count": 18,
     "metadata": {},
     "output_type": "execute_result"
    }
   ],
   "source": [
    "# File path of the labels from the working data and convert the csv file into a pandas DataFrame\n",
    "\n",
    "label_file_path = 'data/pneumonia_dataset/stage_2_train_labels.csv'\n",
    "label_csv = pd.read_csv(label_file_path)\n",
    "label_csv"
   ]
  },
  {
   "cell_type": "code",
   "execution_count": 135,
   "id": "371680e2",
   "metadata": {},
   "outputs": [
    {
     "data": {
      "image/png": "[encoded data removed]",
      "text/plain": [
       "<Figure size 640x480 with 1 Axes>"
      ]
     },
     "metadata": {},
     "output_type": "display_data"
    }
   ],
   "source": [
    "# Number of Data samples with pneumonia and without pneumonia\n",
    "\n",
    "counts = label_csv.drop_duplicates('patientId')['Target'].value_counts()\n",
    "\n",
    "# num_no_pneumonia = counts[0]\n",
    "# num_pneumonia = counts[1]\n",
    "\n",
    "data_class = {\n",
    "    'no pneumonia': int(counts.get(0, 0)),\n",
    "    'pneumonia': int(counts.get(1, 0))\n",
    "}\n",
    "\n",
    "total = sum(data_class.values())\n",
    "\n",
    "\n",
    "bars = plt.bar(data_class.keys(), data_class.values(), color=['cadetblue', 'salmon'])\n",
    "plt.bar_label(bars, labels=[f\"{value}\\n({value/total*100:.1f}%)\" for value in data_class.values()])\n",
    "plt.ylim(0, 1.2*max(data_class.values()))\n",
    "plt.xlabel('Class')\n",
    "plt.ylabel('Number of Samples')\n",
    "plt.title('Pneumonia Dataset Class Distribution')\n",
    "plt.show()\n"
   ]
  },
  {
   "cell_type": "code",
   "execution_count": 141,
   "id": "d3cbf7e8",
   "metadata": {},
   "outputs": [
    {
     "data": {
      "text/plain": [
       "Dataset.file_meta -------------------------------\n",
       "(0002,0000) File Meta Information Group Length  UL: 202\n",
       "(0002,0001) File Meta Information Version       OB: b'\\x00\\x01'\n",
       "(0002,0002) Media Storage SOP Class UID         UI: Secondary Capture Image Storage\n",
       "(0002,0003) Media Storage SOP Instance UID      UI: 1.2.276.0.7230010.3.1.4.8323329.28530.1517874485.775526\n",
       "(0002,0010) Transfer Syntax UID                 UI: JPEG Baseline (Process 1)\n",
       "(0002,0012) Implementation Class UID            UI: 1.2.276.0.7230010.3.0.3.6.0\n",
       "(0002,0013) Implementation Version Name         SH: 'OFFIS_DCMTK_360'\n",
       "-------------------------------------------------\n",
       "(0008,0005) Specific Character Set              CS: 'ISO_IR 100'\n",
       "(0008,0016) SOP Class UID                       UI: Secondary Capture Image Storage\n",
       "(0008,0018) SOP Instance UID                    UI: 1.2.276.0.7230010.3.1.4.8323329.28530.1517874485.775526\n",
       "(0008,0020) Study Date                          DA: '19010101'\n",
       "(0008,0030) Study Time                          TM: '000000.00'\n",
       "(0008,0050) Accession Number                    SH: ''\n",
       "(0008,0060) Modality                            CS: 'CR'\n",
       "(0008,0064) Conversion Type                     CS: 'WSD'\n",
       "(0008,0090) Referring Physician's Name          PN: ''\n",
       "(0008,103E) Series Description                  LO: 'view: PA'\n",
       "(0010,0010) Patient's Name                      PN: '0004cfab-14fd-4e49-80ba-63a80b6bddd6'\n",
       "(0010,0020) Patient ID                          LO: '0004cfab-14fd-4e49-80ba-63a80b6bddd6'\n",
       "(0010,0030) Patient's Birth Date                DA: ''\n",
       "(0010,0040) Patient's Sex                       CS: 'F'\n",
       "(0010,1010) Patient's Age                       AS: '51'\n",
       "(0018,0015) Body Part Examined                  CS: 'CHEST'\n",
       "(0018,5101) View Position                       CS: 'PA'\n",
       "(0020,000D) Study Instance UID                  UI: 1.2.276.0.7230010.3.1.2.8323329.28530.1517874485.775525\n",
       "(0020,000E) Series Instance UID                 UI: 1.2.276.0.7230010.3.1.3.8323329.28530.1517874485.775524\n",
       "(0020,0010) Study ID                            SH: ''\n",
       "(0020,0011) Series Number                       IS: '1'\n",
       "(0020,0013) Instance Number                     IS: '1'\n",
       "(0020,0020) Patient Orientation                 CS: ''\n",
       "(0028,0002) Samples per Pixel                   US: 1\n",
       "(0028,0004) Photometric Interpretation          CS: 'MONOCHROME2'\n",
       "(0028,0010) Rows                                US: 1024\n",
       "(0028,0011) Columns                             US: 1024\n",
       "(0028,0030) Pixel Spacing                       DS: [0.14300000000000002, 0.14300000000000002]\n",
       "(0028,0100) Bits Allocated                      US: 8\n",
       "(0028,0101) Bits Stored                         US: 8\n",
       "(0028,0102) High Bit                            US: 7\n",
       "(0028,0103) Pixel Representation                US: 0\n",
       "(0028,2110) Lossy Image Compression             CS: '01'\n",
       "(0028,2114) Lossy Image Compression Method      CS: 'ISO_10918_1'\n",
       "(7FE0,0010) Pixel Data                          OB: Array of 142006 elements"
      ]
     },
     "execution_count": 141,
     "metadata": {},
     "output_type": "execute_result"
    }
   ],
   "source": [
    "# Check if neumonia cases vary by metadata like (age, sex, image view)\n",
    "\n",
    "data = dcmread(train_path[0])\n",
    "data"
   ]
  },
  {
   "cell_type": "code",
   "execution_count": 10,
   "id": "b262f551",
   "metadata": {},
   "outputs": [],
   "source": [
    "def dcm_to_jpg(dcm_path, save_path):\n",
    "    '''\n",
    "    Convert a DICOM (.dcm) file to a JPEG (.jpg) file and save it.\n",
    "\n",
    "    This function reads a DICOM file from `dcm_path`, converts the pixel data\n",
    "    to an image, and saves the image as a JPEG file at `save_path`.\n",
    "\n",
    "    Args:\n",
    "        dcm_path (str): File path of the input DICOM file.\n",
    "        save_path (str): File path to save the output JPEG file.\n",
    "\n",
    "    Returns:\n",
    "        None\n",
    "    '''\n",
    "    save_path = Path(save_path)\n",
    "\n",
    "    if not save_path.is_dir():\n",
    "        dcm_data = dcmread(dcm_path)\n",
    "        dcm_pixel_array = dcm_data.pixel_array\n",
    "        image = Image.fromarray(dcm_pixel_array)\n",
    "        image.save(save_path, 'JPEG')\n"
   ]
  },
  {
   "cell_type": "code",
   "execution_count": 11,
   "id": "91ec1939",
   "metadata": {},
   "outputs": [],
   "source": [
    "# Create YOLO File format list\n",
    "\n",
    "yolo_file_format = ['YOLO_format_data', ['images', 'labels', 'data.yaml'], ['train', 'val']]\n",
    "\n",
    "# Create the YOLO file format directory\n",
    "for x in range(2):\n",
    "    for y in range(2):\n",
    "        form_path = os.path.join(yolo_file_format[0], yolo_file_format[1][x], yolo_file_format[2][y])\n",
    "        form_path = Path(form_path)\n",
    "        form_path.mkdir(parents=True, exist_ok=True)\n",
    "\n",
    "# # Create data.yaml file\n",
    "yaml_file = Path(yolo_file_format[0]) / yolo_file_format[1][2]\n",
    "\n",
    "# Content for the data.yaml file as required by the YOLO model\n",
    "yaml_content = {\n",
    "    'train': f'{yolo_file_format[1][0]}/{yolo_file_format[2][0]}',\n",
    "    'val': f'{yolo_file_format[1][0]}/{yolo_file_format[2][1]}',\n",
    "    'nc': 1,\n",
    "    'names': ['pneumonia']\n",
    "}\n",
    "\n",
    "# write the content into the data.yaml file\n",
    "with open(yaml_file, 'w') as file:\n",
    "    yaml.dump(yaml_content, file)"
   ]
  },
  {
   "cell_type": "code",
   "execution_count": 12,
   "id": "8393f50b",
   "metadata": {},
   "outputs": [],
   "source": [
    "# Save all the training images into the images direcotry\n",
    "\n",
    "train_image_name_list = []\n",
    "for x in range(len(yolo_train_path)):\n",
    "    img = f'img{x+1}.jpg'\n",
    "    train_image_name_list.append(img)\n",
    "\n",
    "train_yolo_img = Path('YOLO_format_data/images/train')\n",
    "\n",
    "\n",
    "\n",
    "for index, path in enumerate(yolo_train_path):\n",
    "    save_path = os.path.join(train_yolo_img, train_image_name_list[index])\n",
    "    dcm_to_jpg(dcm_path=path, save_path=save_path)\n",
    "\n"
   ]
  },
  {
   "cell_type": "code",
   "execution_count": 13,
   "id": "30c74b92",
   "metadata": {},
   "outputs": [],
   "source": [
    "# Save all the val images into the val directory\n",
    "\n",
    "val_image_name_list = []\n",
    "cont = len(train_image_name_list)\n",
    "cont\n",
    "for x in range(len(val_path)):\n",
    "    img = f'img{cont+x+1}.jpg'\n",
    "    val_image_name_list.append(img)\n",
    "\n",
    "val_yolo_img = Path('YOLO_format_data/images/val')\n",
    "\n",
    "for index, path in enumerate(val_path):\n",
    "    save_path = os.path.join(val_yolo_img, val_image_name_list[index])\n",
    "    dcm_to_jpg(dcm_path=path, save_path=save_path)"
   ]
  },
  {
   "cell_type": "code",
   "execution_count": 14,
   "id": "bd913384",
   "metadata": {},
   "outputs": [
    {
     "data": {
      "text/html": [
       "<div>\n",
       "<style scoped>\n",
       "    .dataframe tbody tr th:only-of-type {\n",
       "        vertical-align: middle;\n",
       "    }\n",
       "\n",
       "    .dataframe tbody tr th {\n",
       "        vertical-align: top;\n",
       "    }\n",
       "\n",
       "    .dataframe thead th {\n",
       "        text-align: right;\n",
       "    }\n",
       "</style>\n",
       "<table border=\"1\" class=\"dataframe\">\n",
       "  <thead>\n",
       "    <tr style=\"text-align: right;\">\n",
       "      <th></th>\n",
       "      <th>patientId</th>\n",
       "      <th>x</th>\n",
       "      <th>y</th>\n",
       "      <th>width</th>\n",
       "      <th>height</th>\n",
       "      <th>Target</th>\n",
       "    </tr>\n",
       "  </thead>\n",
       "  <tbody>\n",
       "    <tr>\n",
       "      <th>0</th>\n",
       "      <td>0004cfab-14fd-4e49-80ba-63a80b6bddd6</td>\n",
       "      <td>NaN</td>\n",
       "      <td>NaN</td>\n",
       "      <td>NaN</td>\n",
       "      <td>NaN</td>\n",
       "      <td>0</td>\n",
       "    </tr>\n",
       "    <tr>\n",
       "      <th>1</th>\n",
       "      <td>00313ee0-9eaa-42f4-b0ab-c148ed3241cd</td>\n",
       "      <td>NaN</td>\n",
       "      <td>NaN</td>\n",
       "      <td>NaN</td>\n",
       "      <td>NaN</td>\n",
       "      <td>0</td>\n",
       "    </tr>\n",
       "    <tr>\n",
       "      <th>2</th>\n",
       "      <td>00322d4d-1c29-4943-afc9-b6754be640eb</td>\n",
       "      <td>NaN</td>\n",
       "      <td>NaN</td>\n",
       "      <td>NaN</td>\n",
       "      <td>NaN</td>\n",
       "      <td>0</td>\n",
       "    </tr>\n",
       "    <tr>\n",
       "      <th>3</th>\n",
       "      <td>003d8fa0-6bf1-40ed-b54c-ac657f8495c5</td>\n",
       "      <td>NaN</td>\n",
       "      <td>NaN</td>\n",
       "      <td>NaN</td>\n",
       "      <td>NaN</td>\n",
       "      <td>0</td>\n",
       "    </tr>\n",
       "    <tr>\n",
       "      <th>4</th>\n",
       "      <td>00436515-870c-4b36-a041-de91049b9ab4</td>\n",
       "      <td>264.0</td>\n",
       "      <td>152.0</td>\n",
       "      <td>213.0</td>\n",
       "      <td>379.0</td>\n",
       "      <td>1</td>\n",
       "    </tr>\n",
       "    <tr>\n",
       "      <th>...</th>\n",
       "      <td>...</td>\n",
       "      <td>...</td>\n",
       "      <td>...</td>\n",
       "      <td>...</td>\n",
       "      <td>...</td>\n",
       "      <td>...</td>\n",
       "    </tr>\n",
       "    <tr>\n",
       "      <th>30222</th>\n",
       "      <td>c1ec14ff-f6d7-4b38-b0cb-fe07041cbdc8</td>\n",
       "      <td>185.0</td>\n",
       "      <td>298.0</td>\n",
       "      <td>228.0</td>\n",
       "      <td>379.0</td>\n",
       "      <td>1</td>\n",
       "    </tr>\n",
       "    <tr>\n",
       "      <th>30223</th>\n",
       "      <td>c1edf42b-5958-47ff-a1e7-4f23d99583ba</td>\n",
       "      <td>NaN</td>\n",
       "      <td>NaN</td>\n",
       "      <td>NaN</td>\n",
       "      <td>NaN</td>\n",
       "      <td>0</td>\n",
       "    </tr>\n",
       "    <tr>\n",
       "      <th>30224</th>\n",
       "      <td>c1f6b555-2eb1-4231-98f6-50a963976431</td>\n",
       "      <td>NaN</td>\n",
       "      <td>NaN</td>\n",
       "      <td>NaN</td>\n",
       "      <td>NaN</td>\n",
       "      <td>0</td>\n",
       "    </tr>\n",
       "    <tr>\n",
       "      <th>30225</th>\n",
       "      <td>c1f7889a-9ea9-4acb-b64c-b737c929599a</td>\n",
       "      <td>570.0</td>\n",
       "      <td>393.0</td>\n",
       "      <td>261.0</td>\n",
       "      <td>345.0</td>\n",
       "      <td>1</td>\n",
       "    </tr>\n",
       "    <tr>\n",
       "      <th>30226</th>\n",
       "      <td>c1f7889a-9ea9-4acb-b64c-b737c929599a</td>\n",
       "      <td>233.0</td>\n",
       "      <td>424.0</td>\n",
       "      <td>201.0</td>\n",
       "      <td>356.0</td>\n",
       "      <td>1</td>\n",
       "    </tr>\n",
       "  </tbody>\n",
       "</table>\n",
       "<p>30227 rows × 6 columns</p>\n",
       "</div>"
      ],
      "text/plain": [
       "                                  patientId      x      y  width  height  \\\n",
       "0      0004cfab-14fd-4e49-80ba-63a80b6bddd6    NaN    NaN    NaN     NaN   \n",
       "1      00313ee0-9eaa-42f4-b0ab-c148ed3241cd    NaN    NaN    NaN     NaN   \n",
       "2      00322d4d-1c29-4943-afc9-b6754be640eb    NaN    NaN    NaN     NaN   \n",
       "3      003d8fa0-6bf1-40ed-b54c-ac657f8495c5    NaN    NaN    NaN     NaN   \n",
       "4      00436515-870c-4b36-a041-de91049b9ab4  264.0  152.0  213.0   379.0   \n",
       "...                                     ...    ...    ...    ...     ...   \n",
       "30222  c1ec14ff-f6d7-4b38-b0cb-fe07041cbdc8  185.0  298.0  228.0   379.0   \n",
       "30223  c1edf42b-5958-47ff-a1e7-4f23d99583ba    NaN    NaN    NaN     NaN   \n",
       "30224  c1f6b555-2eb1-4231-98f6-50a963976431    NaN    NaN    NaN     NaN   \n",
       "30225  c1f7889a-9ea9-4acb-b64c-b737c929599a  570.0  393.0  261.0   345.0   \n",
       "30226  c1f7889a-9ea9-4acb-b64c-b737c929599a  233.0  424.0  201.0   356.0   \n",
       "\n",
       "       Target  \n",
       "0           0  \n",
       "1           0  \n",
       "2           0  \n",
       "3           0  \n",
       "4           1  \n",
       "...       ...  \n",
       "30222       1  \n",
       "30223       0  \n",
       "30224       0  \n",
       "30225       1  \n",
       "30226       1  \n",
       "\n",
       "[30227 rows x 6 columns]"
      ]
     },
     "execution_count": 14,
     "metadata": {},
     "output_type": "execute_result"
    }
   ],
   "source": [
    "# File path of the labels from the working data and convert the csv file into a pandas DataFrame\n",
    "\n",
    "label_file_path = 'data/pneumonia_dataset/stage_2_train_labels.csv'\n",
    "label_csv = pd.read_csv(label_file_path)\n",
    "label_csv"
   ]
  },
  {
   "cell_type": "code",
   "execution_count": 15,
   "id": "955e2e70",
   "metadata": {},
   "outputs": [],
   "source": [
    "# Create a list of all the txt files names for train labels file\n",
    "\n",
    "train_image_txt_list = []\n",
    "\n",
    "for image_name in train_image_name_list:\n",
    "    image_name = Path(image_name)\n",
    "    name = image_name.stem\n",
    "    txt_fil_name = f'{name}.txt'\n",
    "    train_image_txt_list.append(txt_fil_name)"
   ]
  },
  {
   "cell_type": "code",
   "execution_count": 16,
   "id": "3f3e96c9",
   "metadata": {},
   "outputs": [],
   "source": [
    "# File path to save the train labels file to\n",
    "labels_train = Path('YOLO_format_data/labels/train')\n",
    "\n",
    "\n",
    "# Iterate over each path from the list of training data path\n",
    "for index, path in enumerate(yolo_train_path):\n",
    "\n",
    "    # Patient Id of the instance of data \n",
    "    id = path.stem\n",
    "    # Get all the label data associated with the Id\n",
    "    bbox_data = label_csv[label_csv['patientId'] == id] \n",
    "\n",
    "    # final file path to save the instance of label data to\n",
    "    labels_train_txt = os.path.join(labels_train, train_image_txt_list[index])\n",
    "\n",
    "    # Create a  label file for each image data\n",
    "    with open(labels_train_txt, 'w') as f:\n",
    "        # write label into the file if the bbox for the image exists \n",
    "        if bbox_data.iloc[0, 5].item() == 1:\n",
    "            label_class_id = bbox_data.iloc[0, 5].item()\n",
    "            for x in range(len(bbox_data)):\n",
    "                x1 = bbox_data.iloc[x, 1].item() / 1024\n",
    "                y1 = bbox_data.iloc[x, 2].item() / 1024\n",
    "                width = bbox_data.iloc[x, 3].item() / 1024\n",
    "                height = bbox_data.iloc[x, 4].item() / 1024\n",
    "                f.write(f'{label_class_id-1} {x1} {y1} {width} {height}')\n",
    "                f.write('\\n')\n",
    "        # Write nth into the file if no bbox for the instance of data exist\n",
    "        else:\n",
    "            pass"
   ]
  },
  {
   "cell_type": "code",
   "execution_count": 17,
   "id": "82c8ab7f",
   "metadata": {},
   "outputs": [],
   "source": [
    "# Create a list of all the txt files names for val labels file\n",
    "\n",
    "val_image_txt_list = []\n",
    "\n",
    "for image_name in val_image_name_list:\n",
    "    image_name = Path(image_name)\n",
    "    name = image_name.stem\n",
    "    txt_fil_name = f'{name}.txt'\n",
    "    val_image_txt_list.append(txt_fil_name)"
   ]
  },
  {
   "cell_type": "code",
   "execution_count": 18,
   "id": "e1dd4ae0",
   "metadata": {},
   "outputs": [],
   "source": [
    "labels_val = Path('YOLO_format_data/labels/val')\n",
    "\n",
    "x = 0\n",
    "for index, path in enumerate(val_path):\n",
    "    id = path.stem\n",
    "    bbox_data = label_csv[label_csv['patientId'] == id]\n",
    "\n",
    "    labels_train_txt = os.path.join(labels_val, val_image_txt_list[index])\n",
    "\n",
    "    with open(labels_train_txt, 'w') as f:\n",
    "        if bbox_data.iloc[0, 5].item() == 1:\n",
    "            label_class_id = bbox_data.iloc[0, 5].item()\n",
    "            for x in range(len(bbox_data)):\n",
    "                x1 = bbox_data.iloc[x, 1].item() / 1024\n",
    "                y1 = bbox_data.iloc[x, 2].item() / 1024\n",
    "                width = bbox_data.iloc[x, 3].item() / 1024\n",
    "                height = bbox_data.iloc[x, 4].item() / 1024\n",
    "                f.write(f'{label_class_id-1} {x1} {y1} {width} {height}')\n",
    "                f.write('\\n')\n",
    "        # Write nth into the file if no bbox for the instance of data exist\n",
    "        else:\n",
    "            pass\n",
    "\n",
    "    # break\n",
    "    "
   ]
  },
  {
   "cell_type": "code",
   "execution_count": null,
   "id": "1ba02949",
   "metadata": {},
   "outputs": [],
   "source": []
  },
  {
   "cell_type": "code",
   "execution_count": null,
   "id": "0cda3e18",
   "metadata": {},
   "outputs": [],
   "source": []
  },
  {
   "cell_type": "markdown",
   "id": "4cc3fc1f",
   "metadata": {},
   "source": [
    "# Workign with the data part is done...now fine tuning the model part\n"
   ]
  },
  {
   "cell_type": "code",
   "execution_count": 19,
   "id": "f28ddc35",
   "metadata": {},
   "outputs": [],
   "source": [
    "from ultralytics import YOLO"
   ]
  },
  {
   "cell_type": "code",
   "execution_count": 20,
   "id": "1ffb981c",
   "metadata": {},
   "outputs": [],
   "source": [
    "device = 'cuda' if torch.cuda.is_available() else 'cpu'"
   ]
  },
  {
   "cell_type": "code",
   "execution_count": 21,
   "id": "052ad12d",
   "metadata": {},
   "outputs": [],
   "source": [
    "model = YOLO('yolov8n.pt')"
   ]
  },
  {
   "cell_type": "code",
   "execution_count": null,
   "id": "6bf5cc50",
   "metadata": {},
   "outputs": [],
   "source": [
    "train_results = model.train(\n",
    "    data='YOLO_format_data/data.yaml',\n",
    "    epochs=5,\n",
    "    imgsz=640,\n",
    "    batch=16,\n",
    "    name='medical_imaging'\n",
    ")"
   ]
  },
  {
   "cell_type": "code",
   "execution_count": null,
   "id": "84df87a4",
   "metadata": {},
   "outputs": [
    {
     "name": "stdout",
     "output_type": "stream",
     "text": [
      "1024\n",
      "1024\n"
     ]
    }
   ],
   "source": [
    "# Cheked one image of the data and it was in shape of 1024*1024 so a loop to check if all the image are also in 1024*1024 or not\n",
    "\n",
    "# len(yolo_train_path)\n",
    "# x = dcmread(yolo_train_path[3])\n",
    "# shape = x.pixel_array.shape\n",
    "# for x in shape:\n",
    "#     print(x)\n",
    "\n",
    "\n",
    "# for index, path in enumerate(yolo_train_path):\n",
    "#     data = dcmread(path)\n",
    "#     image_shape = data.pixel_array.shape\n",
    "#     for x in image_shape:\n",
    "#         if x != 1024:\n",
    "#             print(index)\n",
    "#             break"
   ]
  },
  {
   "cell_type": "code",
   "execution_count": null,
   "id": "22e2c355",
   "metadata": {},
   "outputs": [],
   "source": []
  },
  {
   "cell_type": "code",
   "execution_count": null,
   "id": "ecd6ebfc",
   "metadata": {},
   "outputs": [],
   "source": []
  },
  {
   "cell_type": "code",
   "execution_count": 1,
   "id": "cc277279",
   "metadata": {},
   "outputs": [
    {
     "name": "stdout",
     "output_type": "stream",
     "text": [
      "New https://pypi.org/project/ultralytics/8.3.152 available  Update with 'pip install -U ultralytics'\n",
      "Ultralytics 8.3.145  Python-3.13.1 torch-2.6.0+cu126 CUDA:0 (NVIDIA T400 4GB, 4096MiB)\n",
      "\u001b[34m\u001b[1mengine\\trainer: \u001b[0magnostic_nms=False, amp=True, augment=False, auto_augment=randaugment, batch=16, bgr=0.0, box=7.5, cache=False, cfg=None, classes=None, close_mosaic=10, cls=0.5, conf=None, copy_paste=0.0, copy_paste_mode=flip, cos_lr=False, cutmix=0.0, data=YOLO_format_data/data.yaml, degrees=0.0, deterministic=True, device=None, dfl=1.5, dnn=False, dropout=0.0, dynamic=False, embed=None, epochs=50, erasing=0.4, exist_ok=False, fliplr=0.5, flipud=0.0, format=torchscript, fraction=1.0, freeze=None, half=False, hsv_h=0.015, hsv_s=0.7, hsv_v=0.4, imgsz=640, int8=False, iou=0.7, keras=False, kobj=1.0, line_width=None, lr0=0.01, lrf=0.01, mask_ratio=4, max_det=300, mixup=0.0, mode=train, model=runs\\detect\\medical_imaging_50_epo\\weights\\last.pt, momentum=0.937, mosaic=1.0, multi_scale=False, name=medical_imaging_50_epo, nbs=64, nms=False, opset=None, optimize=False, optimizer=auto, overlap_mask=True, patience=100, perspective=0.0, plots=True, pose=12.0, pretrained=True, profile=False, project=runs/detect, rect=False, resume=runs\\detect\\medical_imaging_50_epo\\weights\\last.pt, retina_masks=False, save=True, save_conf=False, save_crop=False, save_dir=runs\\detect\\medical_imaging_50_epo, save_frames=False, save_json=False, save_period=-1, save_txt=False, scale=0.5, seed=0, shear=0.0, show=False, show_boxes=True, show_conf=True, show_labels=True, simplify=True, single_cls=False, source=None, split=val, stream_buffer=False, task=detect, time=None, tracker=botsort.yaml, translate=0.1, val=True, verbose=True, vid_stride=1, visualize=False, warmup_bias_lr=0.0, warmup_epochs=3.0, warmup_momentum=0.8, weight_decay=0.0005, workers=8, workspace=None\n",
      "\n",
      "                   from  n    params  module                                       arguments                     \n",
      "  0                  -1  1       464  ultralytics.nn.modules.conv.Conv             [3, 16, 3, 2]                 \n",
      "  1                  -1  1      4672  ultralytics.nn.modules.conv.Conv             [16, 32, 3, 2]                \n",
      "  2                  -1  1      7360  ultralytics.nn.modules.block.C2f             [32, 32, 1, True]             \n",
      "  3                  -1  1     18560  ultralytics.nn.modules.conv.Conv             [32, 64, 3, 2]                \n",
      "  4                  -1  2     49664  ultralytics.nn.modules.block.C2f             [64, 64, 2, True]             \n",
      "  5                  -1  1     73984  ultralytics.nn.modules.conv.Conv             [64, 128, 3, 2]               \n",
      "  6                  -1  2    197632  ultralytics.nn.modules.block.C2f             [128, 128, 2, True]           \n",
      "  7                  -1  1    295424  ultralytics.nn.modules.conv.Conv             [128, 256, 3, 2]              \n",
      "  8                  -1  1    460288  ultralytics.nn.modules.block.C2f             [256, 256, 1, True]           \n",
      "  9                  -1  1    164608  ultralytics.nn.modules.block.SPPF            [256, 256, 5]                 \n",
      " 10                  -1  1         0  torch.nn.modules.upsampling.Upsample         [None, 2, 'nearest']          \n",
      " 11             [-1, 6]  1         0  ultralytics.nn.modules.conv.Concat           [1]                           \n",
      " 12                  -1  1    148224  ultralytics.nn.modules.block.C2f             [384, 128, 1]                 \n",
      " 13                  -1  1         0  torch.nn.modules.upsampling.Upsample         [None, 2, 'nearest']          \n",
      " 14             [-1, 4]  1         0  ultralytics.nn.modules.conv.Concat           [1]                           \n",
      " 15                  -1  1     37248  ultralytics.nn.modules.block.C2f             [192, 64, 1]                  \n",
      " 16                  -1  1     36992  ultralytics.nn.modules.conv.Conv             [64, 64, 3, 2]                \n",
      " 17            [-1, 12]  1         0  ultralytics.nn.modules.conv.Concat           [1]                           \n",
      " 18                  -1  1    123648  ultralytics.nn.modules.block.C2f             [192, 128, 1]                 \n",
      " 19                  -1  1    147712  ultralytics.nn.modules.conv.Conv             [128, 128, 3, 2]              \n",
      " 20             [-1, 9]  1         0  ultralytics.nn.modules.conv.Concat           [1]                           \n",
      " 21                  -1  1    493056  ultralytics.nn.modules.block.C2f             [384, 256, 1]                 \n",
      " 22        [15, 18, 21]  1    751507  ultralytics.nn.modules.head.Detect           [1, [64, 128, 256]]           \n",
      "Model summary: 129 layers, 3,011,043 parameters, 3,011,027 gradients, 8.2 GFLOPs\n",
      "\n",
      "Transferred 355/355 items from pretrained weights\n",
      "Freezing layer 'model.22.dfl.conv.weight'\n",
      "WARNING \u001b[34m\u001b[1mAMP: \u001b[0mchecks failed . AMP training on NVIDIA T400 4GB GPU may cause NaN losses or zero-mAP results, so AMP will be disabled during training.\n",
      "\u001b[34m\u001b[1mtrain: \u001b[0mFast image access  (ping: 0.10.0 ms, read: 210.8103.9 MB/s, size: 59.3 KB)\n"
     ]
    },
    {
     "name": "stderr",
     "output_type": "stream",
     "text": [
      "\u001b[34m\u001b[1mtrain: \u001b[0mScanning C:\\Users\\w10195102\\Desktop\\PROJECTS\\ML_Projects\\Medical_Image_Classification\\YOLO_format_data\\labels\\train.cache... 20000 images, 14917 backgrounds, 0 corrupt: 100%|██████████| 20000/20000 [00:00<?, ?it/s]\n"
     ]
    },
    {
     "name": "stdout",
     "output_type": "stream",
     "text": [
      "\u001b[34m\u001b[1mval: \u001b[0mFast image access  (ping: 0.10.1 ms, read: 232.0118.7 MB/s, size: 57.1 KB)\n"
     ]
    },
    {
     "name": "stderr",
     "output_type": "stream",
     "text": [
      "\u001b[34m\u001b[1mval: \u001b[0mScanning C:\\Users\\w10195102\\Desktop\\PROJECTS\\ML_Projects\\Medical_Image_Classification\\YOLO_format_data\\labels\\val.cache... 6684 images, 5755 backgrounds, 0 corrupt: 100%|██████████| 6684/6684 [00:00<?, ?it/s]\n"
     ]
    },
    {
     "name": "stdout",
     "output_type": "stream",
     "text": [
      "Plotting labels to runs\\detect\\medical_imaging_50_epo\\labels.jpg... \n",
      "\u001b[34m\u001b[1moptimizer:\u001b[0m 'optimizer=auto' found, ignoring 'lr0=0.01' and 'momentum=0.937' and determining best 'optimizer', 'lr0' and 'momentum' automatically... \n",
      "\u001b[34m\u001b[1moptimizer:\u001b[0m SGD(lr=0.01, momentum=0.9) with parameter groups 57 weight(decay=0.0), 64 weight(decay=0.0005), 63 bias(decay=0.0)\n",
      "Resuming training runs\\detect\\medical_imaging_50_epo\\weights\\last.pt from epoch 15 to 50 total epochs\n",
      "Image sizes 640 train, 640 val\n",
      "Using 8 dataloader workers\n",
      "Logging results to \u001b[1mruns\\detect\\medical_imaging_50_epo\u001b[0m\n",
      "Starting training for 50 epochs...\n",
      "\n",
      "      Epoch    GPU_mem   box_loss   cls_loss   dfl_loss  Instances       Size\n"
     ]
    },
    {
     "name": "stderr",
     "output_type": "stream",
     "text": [
      "      15/50      3.81G      1.714       2.46      1.794         14        640: 100%|██████████| 1250/1250 [20:40<00:00,  1.01it/s]\n",
      "                 Class     Images  Instances      Box(P          R      mAP50  mAP50-95): 100%|██████████| 209/209 [02:58<00:00,  1.17it/s]"
     ]
    },
    {
     "name": "stdout",
     "output_type": "stream",
     "text": [
      "                   all       6684       1359      0.319      0.278      0.216     0.0745\n"
     ]
    },
    {
     "name": "stderr",
     "output_type": "stream",
     "text": [
      "\n"
     ]
    },
    {
     "name": "stdout",
     "output_type": "stream",
     "text": [
      "\n",
      "      Epoch    GPU_mem   box_loss   cls_loss   dfl_loss  Instances       Size\n"
     ]
    },
    {
     "name": "stderr",
     "output_type": "stream",
     "text": [
      "      16/50      3.84G       1.69      2.402      1.778         11        640: 100%|██████████| 1250/1250 [21:15<00:00,  1.02s/it]\n",
      "                 Class     Images  Instances      Box(P          R      mAP50  mAP50-95): 100%|██████████| 209/209 [03:08<00:00,  1.11it/s]"
     ]
    },
    {
     "name": "stdout",
     "output_type": "stream",
     "text": [
      "                   all       6684       1359      0.317      0.263      0.216     0.0776\n"
     ]
    },
    {
     "name": "stderr",
     "output_type": "stream",
     "text": [
      "\n"
     ]
    },
    {
     "name": "stdout",
     "output_type": "stream",
     "text": [
      "\n",
      "      Epoch    GPU_mem   box_loss   cls_loss   dfl_loss  Instances       Size\n"
     ]
    },
    {
     "name": "stderr",
     "output_type": "stream",
     "text": [
      "      17/50      3.84G      1.679      2.394       1.77         28        640: 100%|██████████| 1250/1250 [20:50<00:00,  1.00s/it]\n",
      "                 Class     Images  Instances      Box(P          R      mAP50  mAP50-95): 100%|██████████| 209/209 [03:06<00:00,  1.12it/s]"
     ]
    },
    {
     "name": "stdout",
     "output_type": "stream",
     "text": [
      "                   all       6684       1359      0.306      0.328      0.252     0.0896\n"
     ]
    },
    {
     "name": "stderr",
     "output_type": "stream",
     "text": [
      "\n"
     ]
    },
    {
     "name": "stdout",
     "output_type": "stream",
     "text": [
      "\n",
      "      Epoch    GPU_mem   box_loss   cls_loss   dfl_loss  Instances       Size\n"
     ]
    },
    {
     "name": "stderr",
     "output_type": "stream",
     "text": [
      "      18/50      3.84G        1.7       2.42      1.787          8        640: 100%|██████████| 1250/1250 [20:33<00:00,  1.01it/s]\n",
      "                 Class     Images  Instances      Box(P          R      mAP50  mAP50-95): 100%|██████████| 209/209 [03:07<00:00,  1.11it/s]"
     ]
    },
    {
     "name": "stdout",
     "output_type": "stream",
     "text": [
      "                   all       6684       1359      0.322      0.314       0.26     0.0917\n"
     ]
    },
    {
     "name": "stderr",
     "output_type": "stream",
     "text": [
      "\n"
     ]
    },
    {
     "name": "stdout",
     "output_type": "stream",
     "text": [
      "\n",
      "      Epoch    GPU_mem   box_loss   cls_loss   dfl_loss  Instances       Size\n"
     ]
    },
    {
     "name": "stderr",
     "output_type": "stream",
     "text": [
      "      19/50      3.84G      1.695      2.408      1.782          4        640: 100%|██████████| 1250/1250 [20:51<00:00,  1.00s/it]\n",
      "                 Class     Images  Instances      Box(P          R      mAP50  mAP50-95): 100%|██████████| 209/209 [03:07<00:00,  1.11it/s]\n"
     ]
    },
    {
     "name": "stdout",
     "output_type": "stream",
     "text": [
      "                   all       6684       1359      0.316      0.297      0.235     0.0861\n",
      "\n",
      "      Epoch    GPU_mem   box_loss   cls_loss   dfl_loss  Instances       Size\n"
     ]
    },
    {
     "name": "stderr",
     "output_type": "stream",
     "text": [
      "      20/50      3.84G      1.721      2.442      1.801          8        640: 100%|██████████| 1250/1250 [20:49<00:00,  1.00it/s]\n",
      "                 Class     Images  Instances      Box(P          R      mAP50  mAP50-95): 100%|██████████| 209/209 [03:07<00:00,  1.12it/s]"
     ]
    },
    {
     "name": "stdout",
     "output_type": "stream",
     "text": [
      "                   all       6684       1359      0.311      0.303      0.237     0.0827\n"
     ]
    },
    {
     "name": "stderr",
     "output_type": "stream",
     "text": [
      "\n"
     ]
    },
    {
     "name": "stdout",
     "output_type": "stream",
     "text": [
      "\n",
      "      Epoch    GPU_mem   box_loss   cls_loss   dfl_loss  Instances       Size\n"
     ]
    },
    {
     "name": "stderr",
     "output_type": "stream",
     "text": [
      "      21/50      3.84G      1.754      2.503      1.814         14        640: 100%|██████████| 1250/1250 [21:00<00:00,  1.01s/it]\n",
      "                 Class     Images  Instances      Box(P          R      mAP50  mAP50-95): 100%|██████████| 209/209 [02:56<00:00,  1.18it/s]"
     ]
    },
    {
     "name": "stdout",
     "output_type": "stream",
     "text": [
      "                   all       6684       1359      0.359      0.307      0.263     0.0944\n"
     ]
    },
    {
     "name": "stderr",
     "output_type": "stream",
     "text": [
      "\n"
     ]
    },
    {
     "name": "stdout",
     "output_type": "stream",
     "text": [
      "\n",
      "      Epoch    GPU_mem   box_loss   cls_loss   dfl_loss  Instances       Size\n"
     ]
    },
    {
     "name": "stderr",
     "output_type": "stream",
     "text": [
      "      22/50      3.84G      1.764      2.516      1.832          7        640: 100%|██████████| 1250/1250 [20:53<00:00,  1.00s/it]\n",
      "                 Class     Images  Instances      Box(P          R      mAP50  mAP50-95): 100%|██████████| 209/209 [03:08<00:00,  1.11it/s]"
     ]
    },
    {
     "name": "stdout",
     "output_type": "stream",
     "text": [
      "                   all       6684       1359      0.331      0.272      0.235     0.0826\n"
     ]
    },
    {
     "name": "stderr",
     "output_type": "stream",
     "text": [
      "\n"
     ]
    },
    {
     "name": "stdout",
     "output_type": "stream",
     "text": [
      "\n",
      "      Epoch    GPU_mem   box_loss   cls_loss   dfl_loss  Instances       Size\n"
     ]
    },
    {
     "name": "stderr",
     "output_type": "stream",
     "text": [
      "      23/50      3.84G      1.781      2.549      1.836         11        640: 100%|██████████| 1250/1250 [20:35<00:00,  1.01it/s]\n",
      "                 Class     Images  Instances      Box(P          R      mAP50  mAP50-95): 100%|██████████| 209/209 [02:58<00:00,  1.17it/s]"
     ]
    },
    {
     "name": "stdout",
     "output_type": "stream",
     "text": [
      "                   all       6684       1359      0.292      0.302      0.238      0.086\n"
     ]
    },
    {
     "name": "stderr",
     "output_type": "stream",
     "text": [
      "\n"
     ]
    },
    {
     "name": "stdout",
     "output_type": "stream",
     "text": [
      "\n",
      "      Epoch    GPU_mem   box_loss   cls_loss   dfl_loss  Instances       Size\n"
     ]
    },
    {
     "name": "stderr",
     "output_type": "stream",
     "text": [
      "      24/50      3.84G      1.762      2.353      1.822         13        640:   6%|▌         | 71/1250 [01:09<19:17,  1.02it/s]\n"
     ]
    },
    {
     "ename": "KeyboardInterrupt",
     "evalue": "",
     "output_type": "error",
     "traceback": [
      "\u001b[31m---------------------------------------------------------------------------\u001b[39m",
      "\u001b[31mKeyboardInterrupt\u001b[39m                         Traceback (most recent call last)",
      "\u001b[36mCell\u001b[39m\u001b[36m \u001b[39m\u001b[32mIn[1]\u001b[39m\u001b[32m, line 10\u001b[39m\n\u001b[32m      3\u001b[39m \u001b[38;5;66;03m# # Instanciate a new training \u001b[39;00m\n\u001b[32m      4\u001b[39m \u001b[38;5;66;03m# model = YOLO('runs/detect/medical_imaging_v4/weights/best.pt')\u001b[39;00m\n\u001b[32m      5\u001b[39m \u001b[38;5;66;03m# model.train(data='YOLO_format_data/data.yaml', epochs=50, project='runs/detect', name='medical_imaging_50_epo')\u001b[39;00m\n\u001b[32m      6\u001b[39m \n\u001b[32m      7\u001b[39m \n\u001b[32m      8\u001b[39m \u001b[38;5;66;03m# Continue Training\u001b[39;00m\n\u001b[32m      9\u001b[39m model = YOLO(\u001b[33m'\u001b[39m\u001b[33mruns/detect/medical_imaging_50_epo/weights/last.pt\u001b[39m\u001b[33m'\u001b[39m)\n\u001b[32m---> \u001b[39m\u001b[32m10\u001b[39m \u001b[43mmodel\u001b[49m\u001b[43m.\u001b[49m\u001b[43mtrain\u001b[49m\u001b[43m(\u001b[49m\u001b[43mresume\u001b[49m\u001b[43m=\u001b[49m\u001b[38;5;28;43;01mTrue\u001b[39;49;00m\u001b[43m)\u001b[49m\n",
      "\u001b[36mFile \u001b[39m\u001b[32mc:\\Users\\w10195102\\Desktop\\PROJECTS\\ML_Projects\\.venv\\Lib\\site-packages\\ultralytics\\engine\\model.py:797\u001b[39m, in \u001b[36mModel.train\u001b[39m\u001b[34m(self, trainer, **kwargs)\u001b[39m\n\u001b[32m    794\u001b[39m     \u001b[38;5;28mself\u001b[39m.model = \u001b[38;5;28mself\u001b[39m.trainer.model\n\u001b[32m    796\u001b[39m \u001b[38;5;28mself\u001b[39m.trainer.hub_session = \u001b[38;5;28mself\u001b[39m.session  \u001b[38;5;66;03m# attach optional HUB session\u001b[39;00m\n\u001b[32m--> \u001b[39m\u001b[32m797\u001b[39m \u001b[38;5;28;43mself\u001b[39;49m\u001b[43m.\u001b[49m\u001b[43mtrainer\u001b[49m\u001b[43m.\u001b[49m\u001b[43mtrain\u001b[49m\u001b[43m(\u001b[49m\u001b[43m)\u001b[49m\n\u001b[32m    798\u001b[39m \u001b[38;5;66;03m# Update model and cfg after training\u001b[39;00m\n\u001b[32m    799\u001b[39m \u001b[38;5;28;01mif\u001b[39;00m RANK \u001b[38;5;129;01min\u001b[39;00m {-\u001b[32m1\u001b[39m, \u001b[32m0\u001b[39m}:\n",
      "\u001b[36mFile \u001b[39m\u001b[32mc:\\Users\\w10195102\\Desktop\\PROJECTS\\ML_Projects\\.venv\\Lib\\site-packages\\ultralytics\\engine\\trainer.py:227\u001b[39m, in \u001b[36mBaseTrainer.train\u001b[39m\u001b[34m(self)\u001b[39m\n\u001b[32m    224\u001b[39m         ddp_cleanup(\u001b[38;5;28mself\u001b[39m, \u001b[38;5;28mstr\u001b[39m(file))\n\u001b[32m    226\u001b[39m \u001b[38;5;28;01melse\u001b[39;00m:\n\u001b[32m--> \u001b[39m\u001b[32m227\u001b[39m     \u001b[38;5;28;43mself\u001b[39;49m\u001b[43m.\u001b[49m\u001b[43m_do_train\u001b[49m\u001b[43m(\u001b[49m\u001b[43mworld_size\u001b[49m\u001b[43m)\u001b[49m\n",
      "\u001b[36mFile \u001b[39m\u001b[32mc:\\Users\\w10195102\\Desktop\\PROJECTS\\ML_Projects\\.venv\\Lib\\site-packages\\ultralytics\\engine\\trainer.py:435\u001b[39m, in \u001b[36mBaseTrainer._do_train\u001b[39m\u001b[34m(self, world_size)\u001b[39m\n\u001b[32m    433\u001b[39m \u001b[38;5;28;01mif\u001b[39;00m RANK \u001b[38;5;129;01min\u001b[39;00m {-\u001b[32m1\u001b[39m, \u001b[32m0\u001b[39m}:\n\u001b[32m    434\u001b[39m     loss_length = \u001b[38;5;28mself\u001b[39m.tloss.shape[\u001b[32m0\u001b[39m] \u001b[38;5;28;01mif\u001b[39;00m \u001b[38;5;28mlen\u001b[39m(\u001b[38;5;28mself\u001b[39m.tloss.shape) \u001b[38;5;28;01melse\u001b[39;00m \u001b[32m1\u001b[39m\n\u001b[32m--> \u001b[39m\u001b[32m435\u001b[39m     \u001b[43mpbar\u001b[49m\u001b[43m.\u001b[49m\u001b[43mset_description\u001b[49m\u001b[43m(\u001b[49m\n\u001b[32m    436\u001b[39m \u001b[43m        \u001b[49m\u001b[43m(\u001b[49m\u001b[33;43m\"\u001b[39;49m\u001b[38;5;132;43;01m%11s\u001b[39;49;00m\u001b[33;43m\"\u001b[39;49m\u001b[43m \u001b[49m\u001b[43m*\u001b[49m\u001b[43m \u001b[49m\u001b[32;43m2\u001b[39;49m\u001b[43m \u001b[49m\u001b[43m+\u001b[49m\u001b[43m \u001b[49m\u001b[33;43m\"\u001b[39;49m\u001b[38;5;132;43;01m%11.4g\u001b[39;49;00m\u001b[33;43m\"\u001b[39;49m\u001b[43m \u001b[49m\u001b[43m*\u001b[49m\u001b[43m \u001b[49m\u001b[43m(\u001b[49m\u001b[32;43m2\u001b[39;49m\u001b[43m \u001b[49m\u001b[43m+\u001b[49m\u001b[43m \u001b[49m\u001b[43mloss_length\u001b[49m\u001b[43m)\u001b[49m\u001b[43m)\u001b[49m\n\u001b[32m    437\u001b[39m \u001b[43m        \u001b[49m\u001b[43m%\u001b[49m\u001b[43m \u001b[49m\u001b[43m(\u001b[49m\n\u001b[32m    438\u001b[39m \u001b[43m            \u001b[49m\u001b[33;43mf\u001b[39;49m\u001b[33;43m\"\u001b[39;49m\u001b[38;5;132;43;01m{\u001b[39;49;00m\u001b[43mepoch\u001b[49m\u001b[38;5;250;43m \u001b[39;49m\u001b[43m+\u001b[49m\u001b[38;5;250;43m \u001b[39;49m\u001b[32;43m1\u001b[39;49m\u001b[38;5;132;43;01m}\u001b[39;49;00m\u001b[33;43m/\u001b[39;49m\u001b[38;5;132;43;01m{\u001b[39;49;00m\u001b[38;5;28;43mself\u001b[39;49m\u001b[43m.\u001b[49m\u001b[43mepochs\u001b[49m\u001b[38;5;132;43;01m}\u001b[39;49;00m\u001b[33;43m\"\u001b[39;49m\u001b[43m,\u001b[49m\n\u001b[32m    439\u001b[39m \u001b[43m            \u001b[49m\u001b[33;43mf\u001b[39;49m\u001b[33;43m\"\u001b[39;49m\u001b[38;5;132;43;01m{\u001b[39;49;00m\u001b[38;5;28;43mself\u001b[39;49m\u001b[43m.\u001b[49m\u001b[43m_get_memory\u001b[49m\u001b[43m(\u001b[49m\u001b[43m)\u001b[49m\u001b[38;5;132;43;01m:\u001b[39;49;00m\u001b[33;43m.3g\u001b[39;49m\u001b[38;5;132;43;01m}\u001b[39;49;00m\u001b[33;43mG\u001b[39;49m\u001b[33;43m\"\u001b[39;49m\u001b[43m,\u001b[49m\u001b[43m  \u001b[49m\u001b[38;5;66;43;03m# (GB) GPU memory util\u001b[39;49;00m\n\u001b[32m    440\u001b[39m \u001b[43m            \u001b[49m\u001b[43m*\u001b[49m\u001b[43m(\u001b[49m\u001b[38;5;28;43mself\u001b[39;49m\u001b[43m.\u001b[49m\u001b[43mtloss\u001b[49m\u001b[43m \u001b[49m\u001b[38;5;28;43;01mif\u001b[39;49;00m\u001b[43m \u001b[49m\u001b[43mloss_length\u001b[49m\u001b[43m \u001b[49m\u001b[43m>\u001b[49m\u001b[43m \u001b[49m\u001b[32;43m1\u001b[39;49m\u001b[43m \u001b[49m\u001b[38;5;28;43;01melse\u001b[39;49;00m\u001b[43m \u001b[49m\u001b[43mtorch\u001b[49m\u001b[43m.\u001b[49m\u001b[43munsqueeze\u001b[49m\u001b[43m(\u001b[49m\u001b[38;5;28;43mself\u001b[39;49m\u001b[43m.\u001b[49m\u001b[43mtloss\u001b[49m\u001b[43m,\u001b[49m\u001b[43m \u001b[49m\u001b[32;43m0\u001b[39;49m\u001b[43m)\u001b[49m\u001b[43m)\u001b[49m\u001b[43m,\u001b[49m\u001b[43m  \u001b[49m\u001b[38;5;66;43;03m# losses\u001b[39;49;00m\n\u001b[32m    441\u001b[39m \u001b[43m            \u001b[49m\u001b[43mbatch\u001b[49m\u001b[43m[\u001b[49m\u001b[33;43m\"\u001b[39;49m\u001b[33;43mcls\u001b[39;49m\u001b[33;43m\"\u001b[39;49m\u001b[43m]\u001b[49m\u001b[43m.\u001b[49m\u001b[43mshape\u001b[49m\u001b[43m[\u001b[49m\u001b[32;43m0\u001b[39;49m\u001b[43m]\u001b[49m\u001b[43m,\u001b[49m\u001b[43m  \u001b[49m\u001b[38;5;66;43;03m# batch size, i.e. 8\u001b[39;49;00m\n\u001b[32m    442\u001b[39m \u001b[43m            \u001b[49m\u001b[43mbatch\u001b[49m\u001b[43m[\u001b[49m\u001b[33;43m\"\u001b[39;49m\u001b[33;43mimg\u001b[39;49m\u001b[33;43m\"\u001b[39;49m\u001b[43m]\u001b[49m\u001b[43m.\u001b[49m\u001b[43mshape\u001b[49m\u001b[43m[\u001b[49m\u001b[43m-\u001b[49m\u001b[32;43m1\u001b[39;49m\u001b[43m]\u001b[49m\u001b[43m,\u001b[49m\u001b[43m  \u001b[49m\u001b[38;5;66;43;03m# imgsz, i.e 640\u001b[39;49;00m\n\u001b[32m    443\u001b[39m \u001b[43m        \u001b[49m\u001b[43m)\u001b[49m\n\u001b[32m    444\u001b[39m \u001b[43m    \u001b[49m\u001b[43m)\u001b[49m\n\u001b[32m    445\u001b[39m     \u001b[38;5;28mself\u001b[39m.run_callbacks(\u001b[33m\"\u001b[39m\u001b[33mon_batch_end\u001b[39m\u001b[33m\"\u001b[39m)\n\u001b[32m    446\u001b[39m     \u001b[38;5;28;01mif\u001b[39;00m \u001b[38;5;28mself\u001b[39m.args.plots \u001b[38;5;129;01mand\u001b[39;00m ni \u001b[38;5;129;01min\u001b[39;00m \u001b[38;5;28mself\u001b[39m.plot_idx:\n",
      "\u001b[36mFile \u001b[39m\u001b[32mc:\\Users\\w10195102\\Desktop\\PROJECTS\\ML_Projects\\.venv\\Lib\\site-packages\\tqdm\\std.py:1382\u001b[39m, in \u001b[36mtqdm.set_description\u001b[39m\u001b[34m(self, desc, refresh)\u001b[39m\n\u001b[32m   1379\u001b[39m     \u001b[38;5;28mself\u001b[39m._ema_miniters = EMA(\u001b[38;5;28mself\u001b[39m.smoothing)\n\u001b[32m   1380\u001b[39m     \u001b[38;5;28mself\u001b[39m.refresh()\n\u001b[32m-> \u001b[39m\u001b[32m1382\u001b[39m \u001b[38;5;28;01mdef\u001b[39;00m\u001b[38;5;250m \u001b[39m\u001b[34mset_description\u001b[39m(\u001b[38;5;28mself\u001b[39m, desc=\u001b[38;5;28;01mNone\u001b[39;00m, refresh=\u001b[38;5;28;01mTrue\u001b[39;00m):\n\u001b[32m   1383\u001b[39m \u001b[38;5;250m    \u001b[39m\u001b[33;03m\"\"\"\u001b[39;00m\n\u001b[32m   1384\u001b[39m \u001b[33;03m    Set/modify description of the progress bar.\u001b[39;00m\n\u001b[32m   1385\u001b[39m \n\u001b[32m   (...)\u001b[39m\u001b[32m   1390\u001b[39m \u001b[33;03m        Forces refresh [default: True].\u001b[39;00m\n\u001b[32m   1391\u001b[39m \u001b[33;03m    \"\"\"\u001b[39;00m\n\u001b[32m   1392\u001b[39m     \u001b[38;5;28mself\u001b[39m.desc = desc + \u001b[33m'\u001b[39m\u001b[33m: \u001b[39m\u001b[33m'\u001b[39m \u001b[38;5;28;01mif\u001b[39;00m desc \u001b[38;5;28;01melse\u001b[39;00m \u001b[33m'\u001b[39m\u001b[33m'\u001b[39m\n",
      "\u001b[31mKeyboardInterrupt\u001b[39m: "
     ]
    }
   ],
   "source": [
    "from ultralytics import YOLO\n",
    "\n",
    "# # Instanciate a new training \n",
    "# model = YOLO('runs/detect/medical_imaging_v4/weights/best.pt')\n",
    "# model.train(data='YOLO_format_data/data.yaml', epochs=50, project='runs/detect', name='medical_imaging_50_epo')\n",
    "\n",
    "\n",
    "# Continue Training\n",
    "model = YOLO('runs/detect/medical_imaging_50_epo/weights/last.pt')\n",
    "model.train(resume=True)"
   ]
  }
 ],
 "metadata": {
  "kernelspec": {
   "display_name": ".venv",
   "language": "python",
   "name": "python3"
  },
  "language_info": {
   "codemirror_mode": {
    "name": "ipython",
    "version": 3
   },
   "file_extension": ".py",
   "mimetype": "text/x-python",
   "name": "python",
   "nbconvert_exporter": "python",
   "pygments_lexer": "ipython3",
   "version": "3.13.1"
  }
 },
 "nbformat": 4,
 "nbformat_minor": 5
}
