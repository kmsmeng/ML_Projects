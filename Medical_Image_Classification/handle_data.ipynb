{
 "cells": [
  {
   "cell_type": "code",
   "execution_count": 54,
   "id": "91f5d248",
   "metadata": {},
   "outputs": [],
   "source": [
    "import torch\n",
    "from pathlib import Path\n",
    "from pydicom import dcmread\n",
    "from PIL import Image\n",
    "import os"
   ]
  },
  {
   "cell_type": "code",
   "execution_count": 15,
   "id": "693d4c72",
   "metadata": {},
   "outputs": [
    {
     "name": "stdout",
     "output_type": "stream",
     "text": [
      "Train Data Samples: 26684\n",
      "Test Data Samples: 3000\n"
     ]
    }
   ],
   "source": [
    "# Get all the train data samples and test data samples as list\n",
    "\n",
    "data_file = Path('data/pneumonia_dataset')\n",
    "\n",
    "train_path = list(data_file.glob('stage_2_train_images/*.dcm'))\n",
    "test_path = list(data_file.glob('stage_2_test_images/*.dcm'))\n",
    "print(f'Train Data Samples: {len(train_path)}')\n",
    "print(f'Test Data Samples: {len(test_path)}')"
   ]
  },
  {
   "cell_type": "code",
   "execution_count": 86,
   "id": "b262f551",
   "metadata": {},
   "outputs": [
    {
     "data": {
      "text/plain": [
       "'img26684.jpg'"
      ]
     },
     "execution_count": 86,
     "metadata": {},
     "output_type": "execute_result"
    }
   ],
   "source": [
    "\n",
    "def dcm_to_jpg(dcm_path, save_path):\n",
    "    '''\n",
    "    Convert a DICOM (.dcm) file to a JPEG (.jpg) file and save it.\n",
    "\n",
    "    This function reads a DICOM file from `dcm_path`, converts the pixel data\n",
    "    to an image, and saves the image as a JPEG file at `save_path`.\n",
    "\n",
    "    Args:\n",
    "        dcm_path (str): File path of the input DICOM file.\n",
    "        save_path (str): File path to save the output JPEG file.\n",
    "\n",
    "    Returns:\n",
    "        None\n",
    "    '''\n",
    "\n",
    "    dcm_data = dcmread(dcm_path)\n",
    "    dcm_pixel_array = dcm_data.pixel_array\n",
    "    image = Image.fromarray(dcm_pixel_array)\n",
    "    image.save(save_path, 'JPEG')\n",
    "\n",
    "\n",
    "\n",
    "img_name_list = []\n",
    "\n",
    "for x in range(len(train_path)):\n",
    "    img = f'img{x+1}.jpg'\n",
    "    img_name_list.append(img)\n",
    "\n",
    "\n",
    "len(img_name_list)\n",
    "img_name_list[-1]\n",
    "\n",
    "# Get all the pixels values from the train samples which are in dcm format and create jpg images....\n",
    "\n",
    "\n",
    "# dcm_data = dcmread(train_path[0])\n",
    "\n",
    "\n",
    "# dcm_pixel_array = dcm_data.pixel_array\n",
    "# image = Image.fromarray(dcm_pixel_array)\n",
    "\n",
    "\n",
    "\n",
    "# # Creates a directory to store all of our Reorganized and Processed Data\n",
    "\n",
    "# yolo_data = Path('YOLO_format_data')\n",
    "\n",
    "# yolo_data.mkdir(parents=True, exist_ok=True)\n",
    "\n",
    "\n",
    "# train_dir = Path(yolo_data/'images/train')\n",
    "# train_dir.mkdir(parents=True, exist_ok=True)\n",
    "\n",
    "# file_name = 'img1.jpg'\n",
    "\n",
    "# image_path = os.path.join(train_dir, file_name)\n",
    "# image_path\n",
    "# image.save(image_path, 'JPEG')"
   ]
  },
  {
   "cell_type": "code",
   "execution_count": null,
   "id": "764065d4",
   "metadata": {},
   "outputs": [
    {
     "data": {
      "text/plain": [
       "pathlib._local.Path"
      ]
     },
     "execution_count": 81,
     "metadata": {},
     "output_type": "execute_result"
    }
   ],
   "source": []
  },
  {
   "cell_type": "code",
   "execution_count": null,
   "id": "af1ca6a0",
   "metadata": {},
   "outputs": [
    {
     "data": {
      "text/plain": [
       "'img1.jpg'"
      ]
     },
     "execution_count": 79,
     "metadata": {},
     "output_type": "execute_result"
    }
   ],
   "source": [
    "# for path in train_path:\n",
    "#     dcm_data = dcmread(path)\n",
    "#     display(dcm_data)\n",
    "#     break\n",
    "\n",
    "image_list = []\n",
    "\n",
    "for x in range(5):\n",
    "    img = f'img{x+1}.jpg'\n",
    "    image_list.append(img)\n",
    "\n",
    "\n",
    "\n",
    "for path in train_path:"
   ]
  }
 ],
 "metadata": {
  "kernelspec": {
   "display_name": ".venv",
   "language": "python",
   "name": "python3"
  },
  "language_info": {
   "codemirror_mode": {
    "name": "ipython",
    "version": 3
   },
   "file_extension": ".py",
   "mimetype": "text/x-python",
   "name": "python",
   "nbconvert_exporter": "python",
   "pygments_lexer": "ipython3",
   "version": "3.13.1"
  }
 },
 "nbformat": 4,
 "nbformat_minor": 5
}
