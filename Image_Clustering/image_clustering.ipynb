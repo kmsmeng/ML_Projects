{
 "cells": [
  {
   "cell_type": "markdown",
   "metadata": {},
   "source": [
    "The general process/outline for this project.\n",
    "\n",
    "* Will be using DEC (Deep Embedding for Clustering). This will make use of (tinyVgg model architecture) that also combines auto encoders to cluster the images into the labels.\n",
    "\n",
    "\n",
    "\n",
    "\n",
    "1. Install the necessary libraries (abviously) such as torch, torchvision, matplotlib, numpy"
   ]
  },
  {
   "cell_type": "markdown",
   "metadata": {
    "vscode": {
     "languageId": "plaintext"
    }
   },
   "source": [
    "# Make an autoencoder"
   ]
  },
  {
   "cell_type": "code",
   "execution_count": 130,
   "metadata": {},
   "outputs": [],
   "source": [
    "# Import necessary library\n",
    "import torch\n",
    "from torch import nn\n",
    "import matplotlib.pyplot as plt\n",
    "import torchvision"
   ]
  },
  {
   "cell_type": "code",
   "execution_count": 131,
   "metadata": {},
   "outputs": [
    {
     "data": {
      "text/plain": [
       "'cuda'"
      ]
     },
     "execution_count": 131,
     "metadata": {},
     "output_type": "execute_result"
    }
   ],
   "source": [
    "# Initalize the GPU for the model\n",
    "device = 'cuda' if torch.cuda.is_available() else 'cpu'\n",
    "device"
   ]
  },
  {
   "cell_type": "code",
   "execution_count": 132,
   "metadata": {},
   "outputs": [],
   "source": [
    "# # Encoder Model Class\n",
    "\n",
    "# class Encoder(nn.Module):\n",
    "#     def __init__(self,\n",
    "#                  input_shape,\n",
    "#                  hidden_units=[128, 64, 12, 9],\n",
    "#                  dropout_rate=0.2,\n",
    "#                  activation=nn.ReLU()):\n",
    "#         super().__init__()\n",
    "\n",
    "#         self.input_shape = input_shape\n",
    "\n",
    "#         self.input_layer = nn.Linear(input_shape, hidden_units[0])\n",
    "\n",
    "#         self.n_layers = 0\n",
    "#         for i in range(len(hidden_units)-1):\n",
    "#             setattr(self, f'hidden_{i}', nn.Linear(hidden_units[i], hidden_units[i+1]))\n",
    "#             self.n_layers += 1\n",
    "        \n",
    "        \n",
    "#         self.activation = activation\n",
    "#         self.dropout_rate = dropout_rate\n",
    "#         self.hidden_units = hidden_units\n",
    "\n",
    "#         self.dropout = nn.Dropout(self.dropout_rate) \n",
    "\n",
    "#         self.flatten = nn.Flatten()  \n",
    "\n",
    "#     def forward(self, x):\n",
    "#         x = self.flatten(x)\n",
    "#         x = self.activation(self.input_layer(x))\n",
    "#         for i in range(self.n_layers-1):\n",
    "#             hidden_layer = getattr(self, f'hidden_{i}')\n",
    "#             x = self.activation(hidden_layer(x))\n",
    "#             x = self.dropout(x)\n",
    "\n",
    "#         # Last layer to get the output without applying the activation funtion\n",
    "#         output_layer = getattr(self, f'hidden_{self.n_layers - 1}')\n",
    "#         x = output_layer(x)\n",
    "#         return x\n",
    "\n",
    "\n",
    "# model_encoder = Encoder(28*28).to(device)"
   ]
  },
  {
   "cell_type": "code",
   "execution_count": 133,
   "metadata": {},
   "outputs": [],
   "source": [
    "# # Print out the model class initialization\n",
    "# model_encoder"
   ]
  },
  {
   "cell_type": "code",
   "execution_count": 134,
   "metadata": {},
   "outputs": [],
   "source": [
    "# # Decoder Model Class\n",
    "# class Decoder(nn.Module):\n",
    "#     def __init__(self, encoder, activation=nn.ReLU()):\n",
    "#         super().__init__()\n",
    "\n",
    "#         self.n_layers = encoder.n_layers\n",
    "\n",
    "#         self.hidden_units = encoder.hidden_units\n",
    "\n",
    "#         self.hidden_units = self.hidden_units[::-1]\n",
    "\n",
    "#         self.input_shape = encoder.input_shape\n",
    "\n",
    "#         for i in range(self.n_layers):\n",
    "#             setattr(self, f'hidden_{i}', nn.Linear(self.hidden_units[i],\n",
    "#                                                    self.hidden_units[i+1]))\n",
    "            \n",
    "#         self.output_layer = nn.Linear(self.hidden_units[i+1], self.input_shape)\n",
    "\n",
    "#         self.dropout = encoder.dropout\n",
    "#         self.activation = activation\n",
    "#         self.sigmoid = nn.Sigmoid()\n",
    "    \n",
    "#     def forward(self, x):\n",
    "        \n",
    "#         for i in range(self.n_layers):\n",
    "#             hidden_layer = getattr(self, f'hidden_{i}')\n",
    "#             x = hidden_layer(x)\n",
    "#             x = self.activation(x)\n",
    "#             x = self.dropout(x)\n",
    "        \n",
    "#         output = self.output_layer(x)\n",
    "#         output = self.sigmoid(output)\n",
    "#         return output\n",
    "\n"
   ]
  },
  {
   "cell_type": "code",
   "execution_count": 135,
   "metadata": {},
   "outputs": [],
   "source": [
    "# # Instanciate our decoder model class\n",
    "# model_decoder = Decoder(model_encoder).to(device)"
   ]
  },
  {
   "cell_type": "code",
   "execution_count": 136,
   "metadata": {},
   "outputs": [],
   "source": [
    "# # Print out the model class initialization\n",
    "# model_decoder"
   ]
  },
  {
   "cell_type": "code",
   "execution_count": 137,
   "metadata": {},
   "outputs": [],
   "source": [
    "# # AutoEncoder Model Class\n",
    "\n",
    "# class AutoEncoder(nn.Module):\n",
    "#     def __init__(self, input_shape):\n",
    "#         super().__init__()\n",
    "\n",
    "#         self.encoder = Encoder(input_shape=input_shape)\n",
    "\n",
    "#         self.decoder = Decoder(self.encoder)\n",
    "\n",
    "#     def forward(self, x):\n",
    "#         encoded = self.encoder(x)\n",
    "#         decoded = self.decoder(encoded)\n",
    "#         return encoded, decoded\n"
   ]
  },
  {
   "cell_type": "code",
   "execution_count": 138,
   "metadata": {},
   "outputs": [],
   "source": [
    "# Define the Linear AutoEncoder Model class\n",
    "class AutoEncoder_Linear(nn.Module):\n",
    "    def __init__(self):\n",
    "        super().__init__()\n",
    "\n",
    "        self.encoder = nn.Sequential(\n",
    "            nn.Linear(28*28, 128),\n",
    "            nn.ReLU(),\n",
    "            nn.Linear(128, 64),\n",
    "            nn.ReLU(),\n",
    "            nn.Linear(64, 12),\n",
    "            nn.ReLU(),\n",
    "            nn.Linear(12, 3)\n",
    "        )\n",
    "        \n",
    "        self.decoder = nn.Sequential(\n",
    "            nn.Linear(3, 12),\n",
    "            nn.ReLU(),\n",
    "            nn.Linear(12, 64),\n",
    "            nn.ReLU(),\n",
    "            nn.Linear(64, 128),\n",
    "            nn.ReLU(),\n",
    "            nn.Linear(128, 28*28),\n",
    "            nn.Sigmoid()\n",
    "        )\n",
    "\n",
    "    def forward(self, x):\n",
    "        encoded = self.encoder(x)\n",
    "        decoded = self.decoder(encoded)\n",
    "        return encoded, decoded"
   ]
  },
  {
   "cell_type": "code",
   "execution_count": 139,
   "metadata": {},
   "outputs": [],
   "source": [
    "# Instanciate the AutoEncoder model class\n",
    "\n",
    "# model_autoencoder = AutoEncoder(input_shape=28*28).to(device)\n",
    "model_autoencoder = AutoEncoder_Linear().to(device)"
   ]
  },
  {
   "cell_type": "code",
   "execution_count": 140,
   "metadata": {},
   "outputs": [],
   "source": [
    "# Download the MNIST dataset\n",
    "\n",
    "from torchvision import datasets\n",
    "from torch.utils.data import ConcatDataset\n",
    "\n",
    "\n",
    "train_data = datasets.MNIST(root='./',\n",
    "                            train=True,\n",
    "                            transform=torchvision.transforms.ToTensor(),\n",
    "                            target_transform=None,\n",
    "                            download=True)\n",
    "\n",
    "test_data = datasets.MNIST(root='./',\n",
    "                           train=False,\n",
    "                           transform=torchvision.transforms.ToTensor(),\n",
    "                           target_transform=None,\n",
    "                           download=True)\n",
    "\n",
    "dataset = ConcatDataset([train_data, test_data])"
   ]
  },
  {
   "cell_type": "code",
   "execution_count": 141,
   "metadata": {},
   "outputs": [],
   "source": [
    "# Create dataloaders form the dataset\n",
    "\n",
    "from torch.utils.data import DataLoader\n",
    "\n",
    "BATCH_SIZE = 32\n",
    "\n",
    "train_dataloader = DataLoader(dataset=train_data,\n",
    "                              batch_size=BATCH_SIZE,\n",
    "                              shuffle=True)\n",
    "\n",
    "test_dataloader = DataLoader(dataset=test_data,\n",
    "                             batch_size=BATCH_SIZE,\n",
    "                             shuffle=False)\n",
    "\n",
    "# dataloader = DataLoader(dataset=dataset,\n",
    "#                         batch_size=BATCH_SIZE,\n",
    "#                         shuffle=True)"
   ]
  },
  {
   "cell_type": "code",
   "execution_count": 142,
   "metadata": {},
   "outputs": [],
   "source": [
    "# Initialize the loss function, optimizer and the scheduler\n",
    "\n",
    "from torch.optim import lr_scheduler\n",
    "\n",
    "loss_fn = nn.MSELoss()\n",
    "optimizer = torch.optim.Adam(params=model_autoencoder.parameters(),\n",
    "                            lr=0.001)\n",
    "\n",
    "scheduler = lr_scheduler.StepLR(optimizer=optimizer, step_size=10, gamma=0.1)\n",
    "\n"
   ]
  },
  {
   "cell_type": "code",
   "execution_count": 143,
   "metadata": {},
   "outputs": [],
   "source": [
    "flatten = nn.Flatten()"
   ]
  },
  {
   "cell_type": "code",
   "execution_count": 144,
   "metadata": {},
   "outputs": [
    {
     "name": "stdout",
     "output_type": "stream",
     "text": [
      "1/1875\n",
      "251/1875\n",
      "501/1875\n",
      "751/1875\n",
      "1001/1875\n",
      "1251/1875\n",
      "1501/1875\n",
      "1751/1875\n",
      "Epoch: 0 | Loss: 0.0544\n",
      "1/1875\n",
      "251/1875\n",
      "501/1875\n",
      "751/1875\n",
      "1001/1875\n",
      "1251/1875\n",
      "1501/1875\n",
      "1751/1875\n",
      "Epoch: 1 | Loss: 0.0404\n",
      "1/1875\n",
      "251/1875\n",
      "501/1875\n",
      "751/1875\n",
      "1001/1875\n",
      "1251/1875\n",
      "1501/1875\n",
      "1751/1875\n",
      "Epoch: 2 | Loss: 0.0372\n",
      "1/1875\n",
      "251/1875\n",
      "501/1875\n",
      "751/1875\n",
      "1001/1875\n",
      "1251/1875\n",
      "1501/1875\n",
      "1751/1875\n",
      "Epoch: 3 | Loss: 0.0358\n",
      "1/1875\n",
      "251/1875\n",
      "501/1875\n",
      "751/1875\n",
      "1001/1875\n",
      "1251/1875\n",
      "1501/1875\n",
      "1751/1875\n",
      "Epoch: 4 | Loss: 0.0348\n"
     ]
    }
   ],
   "source": [
    "# Train our autoencoder model\n",
    "\n",
    "num_epochs = 5\n",
    "\n",
    "# list of loss for each epochs so we can compare it later in graph\n",
    "loss_for_graph = []\n",
    "\n",
    "\n",
    "for epoch in range(num_epochs):\n",
    "    model_autoencoder.train()\n",
    "\n",
    "    train_loss = 0\n",
    "    \n",
    "    \n",
    "    \n",
    "    for index, (image, label) in enumerate(train_dataloader):\n",
    "\n",
    "        image, label = image.to(device), label.to(device)\n",
    "\n",
    "\n",
    "        image = image.view(image.shape[0], -1) # .view() is used to reshape tensor in python. the resulting number of values is preserved in the .view(). -1 is used as input parameter in the case to let the python decide what dimension make sense to put there as to preserve the total number of values in the resulting tensor. say i have an tensor of shape (3, 100, 100, 75) and then i put the `.view(3, -1)` then the python would reshape it into the (3, 100*100*75) which is shape (3, 750000)\n",
    "\n",
    "\n",
    "        model_output = model_autoencoder(image)\n",
    "\n",
    "        loss = loss_fn(model_output[1], image)\n",
    "\n",
    "        train_loss += loss\n",
    "\n",
    "        \n",
    "\n",
    "        optimizer.zero_grad()\n",
    "        loss.backward()\n",
    "        optimizer.step()\n",
    "\n",
    "        if index % 250 == 0:\n",
    "            print(f'{index+1}/{len(train_dataloader)}')\n",
    "        \n",
    "    scheduler.step()\n",
    "    \n",
    "    train_loss /= len(train_dataloader)\n",
    "\n",
    "    loss_for_graph.append(train_loss.item())\n",
    "\n",
    "    print(f'Epoch: {epoch} | Loss: {train_loss:.4f}')\n"
   ]
  },
  {
   "cell_type": "code",
   "execution_count": 145,
   "metadata": {},
   "outputs": [
    {
     "data": {
      "text/plain": [
       "(0.0, 0.1)"
      ]
     },
     "execution_count": 145,
     "metadata": {},
     "output_type": "execute_result"
    },
    {
     "data": {
      "image/png": "[encoded data removed]",
      "text/plain": [
       "<Figure size 640x480 with 1 Axes>"
      ]
     },
     "metadata": {},
     "output_type": "display_data"
    }
   ],
   "source": [
    "# Graph of loss over time (epochs)\n",
    "\n",
    "plt.plot(range(num_epochs), loss_for_graph)\n",
    "plt.title('Loss vs epochs')\n",
    "plt.ylim(0, 0.1)"
   ]
  },
  {
   "cell_type": "code",
   "execution_count": 164,
   "metadata": {},
   "outputs": [
    {
     "data": {
      "text/plain": [
       "<matplotlib.image.AxesImage at 0x1bb1d257b30>"
      ]
     },
     "execution_count": 164,
     "metadata": {},
     "output_type": "execute_result"
    },
    {
     "data": {
      "image/png": "[encoded data removed]",
      "text/plain": [
       "<Figure size 640x480 with 2 Axes>"
      ]
     },
     "metadata": {},
     "output_type": "display_data"
    }
   ],
   "source": [
    "# print out the output of our autoencoder when an image is passed thorugh it\n",
    "import random \n",
    "rand_int = random.choice(range(len(train_data)))\n",
    "\n",
    "image, label = train_data[rand_int]\n",
    "\n",
    "plt.subplot(1, 2, 1)\n",
    "plt.imshow(image.permute(1, 2, 0), cmap='grey')\n",
    "\n",
    "image = image.view(image.shape[0], -1)\n",
    "output = model_autoencoder(image.to(device))\n",
    "output = output[1].reshape(1, 28, 28)\n",
    "output = output.detach().cpu()\n",
    "\n",
    "plt.subplot(1, 2, 2)\n",
    "plt.imshow(output.permute(1, 2, 0), cmap='grey')\n"
   ]
  },
  {
   "cell_type": "code",
   "execution_count": 147,
   "metadata": {},
   "outputs": [
    {
     "data": {
      "text/plain": [
       "(torch.Size([60000, 3]), torch.Size([60000]))"
      ]
     },
     "execution_count": 147,
     "metadata": {},
     "output_type": "execute_result"
    }
   ],
   "source": [
    "# Get all the encoded output for all of our input images\n",
    "# Also get the labels of images, so we can compare the accuracy of the model as it classifies the latent representation of the model(unsupervised learning) into the labels\n",
    "\n",
    "with torch.inference_mode():\n",
    "    model_autoencoder.eval()\n",
    "\n",
    "    encoded_data = []\n",
    "    label_data = []\n",
    "    for image, label in train_dataloader:\n",
    "        image = image.to(device)\n",
    "        image = image.view(image.shape[0], -1)\n",
    "\n",
    "        encoded_batch = model_autoencoder(image)[0].detach().cpu()\n",
    "        # print(encoded_batch.shape)\n",
    "        encoded_data += encoded_batch\n",
    "        label_data += label\n",
    "       \n",
    "encoded_data = torch.stack(encoded_data)\n",
    "label_data = torch.stack(label_data)\n",
    "\n",
    "encoded_data.shape, label_data.shape\n"
   ]
  },
  {
   "cell_type": "code",
   "execution_count": 148,
   "metadata": {},
   "outputs": [],
   "source": [
    "# apply kmeans clustering on our encoded \n",
    "\n",
    "from sklearn.cluster import KMeans\n",
    "\n",
    "n_clusters = 10\n",
    "\n",
    "kmeans = KMeans(n_clusters=n_clusters)\n",
    "\n",
    "cluster_labels = kmeans.fit_predict(encoded_data)"
   ]
  },
  {
   "cell_type": "code",
   "execution_count": 165,
   "metadata": {},
   "outputs": [
    {
     "name": "stdout",
     "output_type": "stream",
     "text": [
      "0.48\n"
     ]
    }
   ],
   "source": [
    "# Get the ami(adjusted mutual info) score for the clustering\n",
    "\n",
    "from sklearn.metrics import adjusted_mutual_info_score\n",
    "\n",
    "ami_score = adjusted_mutual_info_score(label_data, cluster_labels)\n",
    "\n",
    "print(f'{ami_score:.2f}')"
   ]
  },
  {
   "cell_type": "code",
   "execution_count": 150,
   "metadata": {},
   "outputs": [],
   "source": [
    "cluster_labels = torch.tensor(cluster_labels)"
   ]
  },
  {
   "cell_type": "code",
   "execution_count": 151,
   "metadata": {},
   "outputs": [
    {
     "data": {
      "text/plain": [
       "tensor([8, 1, 0,  ..., 6, 2, 6], dtype=torch.int32)"
      ]
     },
     "execution_count": 151,
     "metadata": {},
     "output_type": "execute_result"
    }
   ],
   "source": [
    "cluster_labels"
   ]
  },
  {
   "cell_type": "code",
   "execution_count": 152,
   "metadata": {},
   "outputs": [],
   "source": [
    "# make and plot the confusion matrix bwtween the cluster labels and the true labels\n",
    "\n",
    "from torchmetrics import ConfusionMatrix\n",
    "from mlxtend.plotting import plot_confusion_matrix\n",
    "\n",
    "confusion_matrix = ConfusionMatrix(task='multiclass', num_classes=10)\n",
    "\n",
    "confusion_matrix_tensor = confusion_matrix(cluster_labels, label_data)"
   ]
  },
  {
   "cell_type": "code",
   "execution_count": 153,
   "metadata": {},
   "outputs": [
    {
     "data": {
      "image/png": "[encoded data removed]",
      "text/plain": [
       "<Figure size 640x480 with 1 Axes>"
      ]
     },
     "metadata": {},
     "output_type": "display_data"
    }
   ],
   "source": [
    "# Plot the confusion matrix\n",
    "fig, ax = plot_confusion_matrix(\n",
    "    conf_mat=confusion_matrix_tensor.numpy(),\n",
    "    class_names=test_data.classes\n",
    ")"
   ]
  },
  {
   "cell_type": "code",
   "execution_count": 154,
   "metadata": {},
   "outputs": [
    {
     "data": {
      "text/plain": [
       "[1, 103, 2185, 0, 2230, 4, 35, 1456, 38, 2323]"
      ]
     },
     "execution_count": 154,
     "metadata": {},
     "output_type": "execute_result"
    }
   ],
   "source": [
    "confusion_matrix_tensor.shape\n",
    "confusion_matrix_tensor[9, 9]\n",
    "\n",
    "# Get all the number of correct predicted labels in the unsupervised learning \n",
    "correct = []\n",
    "for i in range(len(train_data.classes)):\n",
    "    x = confusion_matrix_tensor[i, i].item()\n",
    "    # print(x)\n",
    "    correct.append(x)\n",
    "\n",
    "correct"
   ]
  },
  {
   "cell_type": "code",
   "execution_count": 155,
   "metadata": {},
   "outputs": [
    {
     "data": {
      "text/plain": [
       "8375"
      ]
     },
     "execution_count": 155,
     "metadata": {},
     "output_type": "execute_result"
    }
   ],
   "source": [
    "total = 0\n",
    "total += sum(correct)\n",
    "total"
   ]
  },
  {
   "cell_type": "code",
   "execution_count": 156,
   "metadata": {},
   "outputs": [
    {
     "name": "stdout",
     "output_type": "stream",
     "text": [
      "Model Accuracy: 13.96 %\n"
     ]
    }
   ],
   "source": [
    "# get the accuracy of the model\n",
    "Accuracy = (total/len(train_data)) * 100\n",
    "print(f'Model Accuracy: {Accuracy:.2f} %')"
   ]
  }
 ],
 "metadata": {
  "kernelspec": {
   "display_name": ".venv",
   "language": "python",
   "name": "python3"
  },
  "language_info": {
   "codemirror_mode": {
    "name": "ipython",
    "version": 3
   },
   "file_extension": ".py",
   "mimetype": "text/x-python",
   "name": "python",
   "nbconvert_exporter": "python",
   "pygments_lexer": "ipython3",
   "version": "3.12.3"
  }
 },
 "nbformat": 4,
 "nbformat_minor": 2
}
