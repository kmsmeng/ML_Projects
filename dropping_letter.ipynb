{
 "cells": [
  {
   "cell_type": "code",
   "execution_count": 64,
   "metadata": {},
   "outputs": [],
   "source": [
    "import string\n",
    "\n",
    "alphabets = list(string.ascii_lowercase)"
   ]
  },
  {
   "cell_type": "code",
   "execution_count": 65,
   "metadata": {},
   "outputs": [
    {
     "data": {
      "text/plain": [
       "'hello world'"
      ]
     },
     "execution_count": 65,
     "metadata": {},
     "output_type": "execute_result"
    }
   ],
   "source": [
    "word = input('Please Enter a word to apply the dropping letter effect: ')\n",
    "word"
   ]
  },
  {
   "cell_type": "code",
   "execution_count": 66,
   "metadata": {},
   "outputs": [],
   "source": [
    "import time\n",
    "\n",
    "dropping_time_delay = 0.05 # In seconds"
   ]
  },
  {
   "cell_type": "code",
   "execution_count": 67,
   "metadata": {},
   "outputs": [],
   "source": [
    "# "
   ]
  },
  {
   "cell_type": "code",
   "execution_count": 68,
   "metadata": {},
   "outputs": [
    {
     "name": "stdout",
     "output_type": "stream",
     "text": [
      "abc\n",
      "ab\n",
      "a\n"
     ]
    }
   ],
   "source": [
    "x = 'abc'\n",
    "full = ''\n",
    "full += x\n",
    "\n",
    "for i in range(len(x)):\n",
    "    print(x)\n",
    "    x = x[:-1]"
   ]
  },
  {
   "cell_type": "code",
   "execution_count": 78,
   "metadata": {},
   "outputs": [
    {
     "name": "stdout",
     "output_type": "stream",
     "text": [
      "a\n",
      "b\n",
      "c\n",
      "d\n",
      "e\n",
      "f\n",
      "g\n",
      "h\n",
      "ha\n",
      "hb\n",
      "hc\n",
      "hd\n",
      "he\n",
      "hea\n",
      "heb\n",
      "hec\n",
      "hed\n",
      "hee\n",
      "hef\n",
      "heg\n",
      "heh\n",
      "hei\n",
      "hej\n",
      "hek\n",
      "hel\n",
      "hela\n",
      "helb\n",
      "helc\n",
      "held\n",
      "hele\n",
      "helf\n",
      "helg\n",
      "helh\n",
      "heli\n",
      "helj\n",
      "helk\n",
      "hell\n",
      "hella\n",
      "hellb\n",
      "hellc\n",
      "helld\n",
      "helle\n",
      "hellf\n",
      "hellg\n",
      "hellh\n",
      "helli\n",
      "hellj\n",
      "hellk\n",
      "helll\n",
      "hellm\n",
      "helln\n",
      "hello\n",
      "helloa\n",
      "hellob\n",
      "helloc\n",
      "hellod\n",
      "helloe\n",
      "hellof\n",
      "hellog\n",
      "helloh\n",
      "helloi\n",
      "helloj\n",
      "hellok\n",
      "hellol\n",
      "hellom\n",
      "hellon\n",
      "helloo\n",
      "hellop\n",
      "helloq\n",
      "hellor\n",
      "hellos\n",
      "hellot\n",
      "hellou\n",
      "hellov\n",
      "hellow\n",
      "hellox\n",
      "helloy\n",
      "helloz\n"
     ]
    },
    {
     "ename": "IndexError",
     "evalue": "list index out of range",
     "output_type": "error",
     "traceback": [
      "\u001b[1;31m---------------------------------------------------------------------------\u001b[0m",
      "\u001b[1;31mIndexError\u001b[0m                                Traceback (most recent call last)",
      "Cell \u001b[1;32mIn[78], line 11\u001b[0m\n\u001b[0;32m      7\u001b[0m x \u001b[38;5;241m=\u001b[39m \u001b[38;5;241m0\u001b[39m\n\u001b[0;32m      9\u001b[0m \u001b[38;5;28;01mwhile\u001b[39;00m \u001b[38;5;28;01mTrue\u001b[39;00m:\n\u001b[1;32m---> 11\u001b[0m     last_letter \u001b[38;5;241m=\u001b[39m \u001b[43malphabets\u001b[49m\u001b[43m[\u001b[49m\u001b[43mx\u001b[49m\u001b[43m]\u001b[49m\n\u001b[0;32m     12\u001b[0m     full_print \u001b[38;5;241m+\u001b[39m\u001b[38;5;241m=\u001b[39m last_letter\n\u001b[0;32m     13\u001b[0m     \u001b[38;5;28mprint\u001b[39m(full_print)\n",
      "\u001b[1;31mIndexError\u001b[0m: list index out of range"
     ]
    }
   ],
   "source": [
    "word_length = len(word)\n",
    "full_print = ''\n",
    "\n",
    "for i in range(word_length):\n",
    "\n",
    "    # list_rand = []\n",
    "    x = 0\n",
    "\n",
    "    while True:\n",
    "        \n",
    "        last_letter = alphabets[x]\n",
    "        full_print += last_letter\n",
    "        print(full_print)\n",
    "\n",
    "        time.sleep(dropping_time_delay)\n",
    "\n",
    "        if alphabets[x] == word[i]:\n",
    "\n",
    "            # list_rand.append(x)\n",
    "            break\n",
    "        \n",
    "        full_print = full_print[:-1]\n",
    "\n",
    "        x+=1\n"
   ]
  },
  {
   "cell_type": "code",
   "execution_count": 12,
   "metadata": {},
   "outputs": [
    {
     "name": "stdout",
     "output_type": "stream",
     "text": [
      "0\n",
      "1\n",
      "2\n",
      "3\n",
      "4\n",
      "5\n"
     ]
    }
   ],
   "source": [
    "x = 0\n",
    "\n",
    "while True:\n",
    "    print(x)\n",
    "\n",
    "    if x == 5:\n",
    "        break\n",
    "\n",
    "    x+=1"
   ]
  },
  {
   "cell_type": "code",
   "execution_count": 76,
   "metadata": {},
   "outputs": [
    {
     "name": "stdout",
     "output_type": "stream",
     "text": [
      "On branch main\n",
      "Your branch is up to date with 'origin/main'.\n",
      "\n",
      "Changes not staged for commit:\n",
      "  (use \"git add <file>...\" to update what will be committed)\n",
      "  (use \"git restore <file>...\" to discard changes in working directory)\n",
      "\tmodified:   Medical_Image_Classification/pneumonia_detection_challenge.ipynb\n",
      "\n",
      "Untracked files:\n",
      "  (use \"git add <file>...\" to include in what will be committed)\n",
      "\tdropping_letter.ipynb\n",
      "\tdropping_letter.py\n",
      "\n",
      "no changes added to commit (use \"git add\" and/or \"git commit -a\")\n"
     ]
    }
   ],
   "source": [
    "! git status"
   ]
  },
  {
   "cell_type": "code",
   "execution_count": 90,
   "metadata": {},
   "outputs": [
    {
     "name": "stdout",
     "output_type": "stream",
     "text": [
      "y\n"
     ]
    }
   ],
   "source": [
    "a = [1, 2, 3]\n",
    "my_var = 2\n",
    "if my_var not in a:\n",
    "    print('x')\n",
    "else:\n",
    "    print('y')"
   ]
  }
 ],
 "metadata": {
  "kernelspec": {
   "display_name": ".venv",
   "language": "python",
   "name": "python3"
  },
  "language_info": {
   "codemirror_mode": {
    "name": "ipython",
    "version": 3
   },
   "file_extension": ".py",
   "mimetype": "text/x-python",
   "name": "python",
   "nbconvert_exporter": "python",
   "pygments_lexer": "ipython3",
   "version": "3.12.3"
  }
 },
 "nbformat": 4,
 "nbformat_minor": 2
}
