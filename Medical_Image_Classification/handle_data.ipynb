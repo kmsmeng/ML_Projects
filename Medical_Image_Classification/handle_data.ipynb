{
 "cells": [
  {
   "cell_type": "code",
   "execution_count": 16,
   "id": "91f5d248",
   "metadata": {},
   "outputs": [],
   "source": [
    "import torch\n",
    "from pathlib import Path\n",
    "from pydicom import dcmread\n",
    "from PIL import Image\n",
    "import os\n",
    "import yaml"
   ]
  },
  {
   "cell_type": "code",
   "execution_count": null,
   "id": "693d4c72",
   "metadata": {},
   "outputs": [
    {
     "name": "stdout",
     "output_type": "stream",
     "text": [
      "Train Data Samples: 26684\n",
      "Test Data Samples: 3000\n"
     ]
    }
   ],
   "source": [
    "# Get all the train data samples and test data samples path as list\n",
    "\n",
    "data_file = Path('data/pneumonia_dataset')\n",
    "\n",
    "train_path = list(data_file.glob('stage_2_train_images/*.dcm'))\n",
    "test_path = list(data_file.glob('stage_2_test_images/*.dcm'))\n",
    "print(f'Train Data Samples: {len(train_path)}')\n",
    "print(f'Test Data Samples: {len(test_path)}')"
   ]
  },
  {
   "cell_type": "code",
   "execution_count": null,
   "id": "b262f551",
   "metadata": {},
   "outputs": [],
   "source": [
    "def dcm_to_jpg(dcm_path, save_path):\n",
    "    '''\n",
    "    Convert a DICOM (.dcm) file to a JPEG (.jpg) file and save it.\n",
    "\n",
    "    This function reads a DICOM file from `dcm_path`, converts the pixel data\n",
    "    to an image, and saves the image as a JPEG file at `save_path`.\n",
    "\n",
    "    Args:\n",
    "        dcm_path (str): File path of the input DICOM file.\n",
    "        save_path (str): File path to save the output JPEG file.\n",
    "\n",
    "    Returns:\n",
    "        None\n",
    "    '''\n",
    "    save_path = Path(save_path)\n",
    "\n",
    "    if not save_path.is_dir():\n",
    "        dcm_data = dcmread(dcm_path)\n",
    "        dcm_pixel_array = dcm_data.pixel_array\n",
    "        image = Image.fromarray(dcm_pixel_array)\n",
    "        image.save(save_path, 'JPEG')\n"
   ]
  },
  {
   "cell_type": "code",
   "execution_count": null,
   "id": "91ec1939",
   "metadata": {},
   "outputs": [],
   "source": [
    "# Create YOLO File format list\n",
    "\n",
    "yolo_file_format = ['YOLO_format_data', ['images', 'labels', 'data.yaml'], ['train', 'val']]\n",
    "\n",
    "# Create the YOLO file format directory\n",
    "for x in range(2):\n",
    "    for y in range(2):\n",
    "        form_path = os.path.join(yolo_file_format[0], yolo_file_format[1][x], yolo_file_format[2][y])\n",
    "        form_path = Path(form_path)\n",
    "        form_path.mkdir(parents=True, exist_ok=True)\n",
    "\n",
    "# # Create data.yaml file\n",
    "yaml_file = Path(yolo_file_format[0]) / yolo_file_format[1][2]\n",
    "\n",
    "# Content for the data.yaml file as required by the YOLO model\n",
    "yaml_content = {\n",
    "    'train': f'{yolo_file_format[1][0]}/{yolo_file_format[2][0]}',\n",
    "    'val': f'{yolo_file_format[1][0]}/{yolo_file_format[2][1]}',\n",
    "    'nc': 1,\n",
    "    'names': ['pneumonia']\n",
    "}\n",
    "\n",
    "# write the content into the data.yaml file\n",
    "with open(yaml_file, 'w') as file:\n",
    "    yaml.dump(yaml_content, file)"
   ]
  },
  {
   "cell_type": "code",
   "execution_count": 20,
   "id": "8393f50b",
   "metadata": {},
   "outputs": [],
   "source": [
    "# Save all the training images into the images direcotry\n",
    "\n",
    "train_image_name_list = []\n",
    "for x in range(len(train_path)):\n",
    "    img = f'img{x+1}.jpg'\n",
    "    train_image_name_list.append(img)\n",
    "\n",
    "train_yolo_img = Path('YOLO_format_data/images/train')\n",
    "\n",
    "\n",
    "\n",
    "for index, path in enumerate(train_path):\n",
    "    save_path = os.path.join(train_yolo_img, train_image_name_list[index])\n",
    "    dcm_to_jpg(dcm_path=path, save_path=save_path)\n",
    "\n"
   ]
  },
  {
   "cell_type": "code",
   "execution_count": null,
   "id": "30c74b92",
   "metadata": {},
   "outputs": [],
   "source": [
    "# Save all the val images into the val directory\n",
    "\n",
    "val_image_name_list = []\n",
    "cont = len(train_image_name_list)\n",
    "cont\n",
    "for x in range(len(test_path)):\n",
    "    img = f'img{cont+x+1}.jpg'\n",
    "    val_image_name_list.append(img)\n",
    "\n",
    "val_yolo_img = Path('YOLO_format_data/images/val')\n",
    "\n",
    "for index, path in enumerate(test_path):\n",
    "    save_path = os.path.join(val_yolo_img, val_image_name_list[index])\n",
    "    dcm_to_jpg(dcm_path=path, save_path=save_path)"
   ]
  }
 ],
 "metadata": {
  "kernelspec": {
   "display_name": ".venv",
   "language": "python",
   "name": "python3"
  },
  "language_info": {
   "codemirror_mode": {
    "name": "ipython",
    "version": 3
   },
   "file_extension": ".py",
   "mimetype": "text/x-python",
   "name": "python",
   "nbconvert_exporter": "python",
   "pygments_lexer": "ipython3",
   "version": "3.12.3"
  }
 },
 "nbformat": 4,
 "nbformat_minor": 5
}
